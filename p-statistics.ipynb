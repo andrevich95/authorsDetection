{
 "cells": [
  {
   "cell_type": "code",
   "execution_count": 234,
   "metadata": {},
   "outputs": [],
   "source": [
    "import numpy as np\n",
    "import pandas as pd\n",
    "from itertools import product\n",
    "#from nltk import ngrams\n",
    "#import sklearn\n",
    "import matplotlib.pyplot as plt\n",
    "import seaborn as sns\n",
    "import os"
   ]
  },
  {
   "cell_type": "code",
   "execution_count": 320,
   "metadata": {},
   "outputs": [],
   "source": [
    "#for 95% probability\n",
    "_T = 2"
   ]
  },
  {
   "cell_type": "markdown",
   "metadata": {},
   "source": [
    "# Calculate n grams"
   ]
  },
  {
   "cell_type": "code",
   "execution_count": 236,
   "metadata": {},
   "outputs": [],
   "source": [
    "alphabet = 'абвгдеёжзийклмнопрстуфхцчьыъшщэюя'\n",
    "n = 2\n",
    "\n",
    "def build_n_grams(n):\n",
    "    combinations = [''.join(val) for val in [p for p in product(list(alphabet),repeat = n)]]\n",
    "    return combinations\n",
    "\n",
    "n_grams = build_n_grams(n)"
   ]
  },
  {
   "cell_type": "markdown",
   "metadata": {},
   "source": [
    "# Read textes and build dataframe"
   ]
  },
  {
   "cell_type": "code",
   "execution_count": 237,
   "metadata": {},
   "outputs": [],
   "source": [
    "def build_dataframe(text: str, gramms):\n",
    "    text_data = {}\n",
    "    lenght = len(text)\n",
    "    for i in gramms:\n",
    "        text_data[i] = text.count(i)/lenght\n",
    "    return text_data"
   ]
  },
  {
   "cell_type": "code",
   "execution_count": 238,
   "metadata": {},
   "outputs": [],
   "source": [
    "def read_text(filepath, n_grams):\n",
    "    data = {}\n",
    "    with open(filepath, 'r') as f:\n",
    "        try:\n",
    "            text = ''.join(filter(str.isalpha, f.read()))\n",
    "            data['lenght'] = len(text)\n",
    "            data.update(build_dataframe(text, n_grams))\n",
    "        except UnicodeDecodeError as e: \n",
    "            print('Unable to read the text (some encoding errors)')\n",
    "            print('\\033[91m {} \\033[0m'.format(str(e)))\n",
    "    return data"
   ]
  },
  {
   "cell_type": "code",
   "execution_count": 239,
   "metadata": {},
   "outputs": [],
   "source": [
    "def read_authors(dirname, n_grams):\n",
    "    data = []\n",
    "    for _dir in os.listdir(dirname):\n",
    "        _current_dir = os.path.join(dirname,_dir)\n",
    "        if(os.path.isdir(_current_dir)):\n",
    "            for _file in os.listdir(_current_dir):\n",
    "                if '.DS_Store' in _file:\n",
    "                    print('\\033[91m {} \\033[0m'.format(str('.DS_Store file')))\n",
    "                else:\n",
    "                    filepath = os.path.join(_current_dir, _file)\n",
    "                    text = None\n",
    "                    string_data = {'author': _dir, 'name': _file}\n",
    "                    string_data.update(read_text(filepath, n_grams))\n",
    "                    data.append(string_data)\n",
    "    return data"
   ]
  },
  {
   "cell_type": "markdown",
   "metadata": {},
   "source": [
    "# Read data for prediction "
   ]
  },
  {
   "cell_type": "code",
   "execution_count": 240,
   "metadata": {},
   "outputs": [],
   "source": [
    "def read_unknown(path, n_grams):\n",
    "    data = []\n",
    "    for _file in os.listdir(path):\n",
    "        if '.DS_Store' in _file:\n",
    "            print('\\033[91m {} \\033[0m'.format(str('.DS_Store file')))\n",
    "        else:\n",
    "            row = {'name': _file}\n",
    "            row.update(read_text(os.path.join(path, _file), n_grams))\n",
    "            data.append(row)\n",
    "    return data"
   ]
  },
  {
   "cell_type": "markdown",
   "metadata": {},
   "source": [
    "# Build model"
   ]
  },
  {
   "cell_type": "code",
   "execution_count": 244,
   "metadata": {},
   "outputs": [
    {
     "name": "stdout",
     "output_type": "stream",
     "text": [
      "\u001b[91m .DS_Store file \u001b[0m\n",
      "\u001b[91m .DS_Store file \u001b[0m\n",
      "\u001b[91m .DS_Store file \u001b[0m\n",
      "\u001b[91m .DS_Store file \u001b[0m\n",
      "\u001b[91m .DS_Store file \u001b[0m\n",
      "\u001b[91m .DS_Store file \u001b[0m\n",
      "\u001b[91m .DS_Store file \u001b[0m\n",
      "\u001b[91m .DS_Store file \u001b[0m\n",
      "\u001b[91m .DS_Store file \u001b[0m\n"
     ]
    }
   ],
   "source": [
    "data = read_authors('./20', n_grams)\n",
    "df = pd.DataFrame(data)\n",
    "unique_authors = df.author.unique()"
   ]
  },
  {
   "cell_type": "code",
   "execution_count": 245,
   "metadata": {},
   "outputs": [
    {
     "data": {
      "text/plain": [
       "array(['Хаксли', 'Ильин', 'Калинина', 'Курпатов', 'Агапкин', 'Марк Фрост',\n",
       "       'Достоевский', 'Тургенев', 'Генри Миллер', 'Александрова',\n",
       "       'Казанцев'], dtype=object)"
      ]
     },
     "execution_count": 245,
     "metadata": {},
     "output_type": "execute_result"
    }
   ],
   "source": [
    "unique_authors"
   ]
  },
  {
   "cell_type": "code",
   "execution_count": 246,
   "metadata": {},
   "outputs": [
    {
     "data": {
      "text/html": [
       "<div>\n",
       "<style scoped>\n",
       "    .dataframe tbody tr th:only-of-type {\n",
       "        vertical-align: middle;\n",
       "    }\n",
       "\n",
       "    .dataframe tbody tr th {\n",
       "        vertical-align: top;\n",
       "    }\n",
       "\n",
       "    .dataframe thead th {\n",
       "        text-align: right;\n",
       "    }\n",
       "</style>\n",
       "<table border=\"1\" class=\"dataframe\">\n",
       "  <thead>\n",
       "    <tr style=\"text-align: right;\">\n",
       "      <th></th>\n",
       "      <th>author</th>\n",
       "      <th>lenght</th>\n",
       "      <th>name</th>\n",
       "      <th>аа</th>\n",
       "      <th>аб</th>\n",
       "      <th>ав</th>\n",
       "      <th>аг</th>\n",
       "      <th>ад</th>\n",
       "      <th>ае</th>\n",
       "      <th>аж</th>\n",
       "      <th>...</th>\n",
       "      <th>ёч</th>\n",
       "      <th>ёш</th>\n",
       "      <th>ёщ</th>\n",
       "      <th>ёъ</th>\n",
       "      <th>ёы</th>\n",
       "      <th>ёь</th>\n",
       "      <th>ёэ</th>\n",
       "      <th>ёю</th>\n",
       "      <th>ёя</th>\n",
       "      <th>ёё</th>\n",
       "    </tr>\n",
       "  </thead>\n",
       "  <tbody>\n",
       "    <tr>\n",
       "      <th>0</th>\n",
       "      <td>Хаксли</td>\n",
       "      <td>16511</td>\n",
       "      <td>Хаксли гений и богиня часть 5</td>\n",
       "      <td>0.000242</td>\n",
       "      <td>0.001938</td>\n",
       "      <td>0.004542</td>\n",
       "      <td>0.001514</td>\n",
       "      <td>0.003392</td>\n",
       "      <td>0.002241</td>\n",
       "      <td>0.001575</td>\n",
       "      <td>...</td>\n",
       "      <td>0.0</td>\n",
       "      <td>0.0</td>\n",
       "      <td>0.0</td>\n",
       "      <td>0.0</td>\n",
       "      <td>0.0</td>\n",
       "      <td>0.0</td>\n",
       "      <td>0.0</td>\n",
       "      <td>0.0</td>\n",
       "      <td>0.0</td>\n",
       "      <td>0.0</td>\n",
       "    </tr>\n",
       "    <tr>\n",
       "      <th>1</th>\n",
       "      <td>Хаксли</td>\n",
       "      <td>18174</td>\n",
       "      <td>Хаксли. Гений и богиня часть 1</td>\n",
       "      <td>0.000770</td>\n",
       "      <td>0.001871</td>\n",
       "      <td>0.003852</td>\n",
       "      <td>0.001211</td>\n",
       "      <td>0.002751</td>\n",
       "      <td>0.001706</td>\n",
       "      <td>0.001431</td>\n",
       "      <td>...</td>\n",
       "      <td>0.0</td>\n",
       "      <td>0.0</td>\n",
       "      <td>0.0</td>\n",
       "      <td>0.0</td>\n",
       "      <td>0.0</td>\n",
       "      <td>0.0</td>\n",
       "      <td>0.0</td>\n",
       "      <td>0.0</td>\n",
       "      <td>0.0</td>\n",
       "      <td>0.0</td>\n",
       "    </tr>\n",
       "    <tr>\n",
       "      <th>2</th>\n",
       "      <td>Хаксли</td>\n",
       "      <td>17144</td>\n",
       "      <td>Хаксли гений и богиня часть 4</td>\n",
       "      <td>0.000875</td>\n",
       "      <td>0.001750</td>\n",
       "      <td>0.003266</td>\n",
       "      <td>0.000875</td>\n",
       "      <td>0.002158</td>\n",
       "      <td>0.001400</td>\n",
       "      <td>0.001400</td>\n",
       "      <td>...</td>\n",
       "      <td>0.0</td>\n",
       "      <td>0.0</td>\n",
       "      <td>0.0</td>\n",
       "      <td>0.0</td>\n",
       "      <td>0.0</td>\n",
       "      <td>0.0</td>\n",
       "      <td>0.0</td>\n",
       "      <td>0.0</td>\n",
       "      <td>0.0</td>\n",
       "      <td>0.0</td>\n",
       "    </tr>\n",
       "    <tr>\n",
       "      <th>3</th>\n",
       "      <td>Хаксли</td>\n",
       "      <td>16904</td>\n",
       "      <td>Хаксли Слепец в Газе часть 1</td>\n",
       "      <td>0.000355</td>\n",
       "      <td>0.001420</td>\n",
       "      <td>0.005147</td>\n",
       "      <td>0.001538</td>\n",
       "      <td>0.002603</td>\n",
       "      <td>0.002544</td>\n",
       "      <td>0.001656</td>\n",
       "      <td>...</td>\n",
       "      <td>0.0</td>\n",
       "      <td>0.0</td>\n",
       "      <td>0.0</td>\n",
       "      <td>0.0</td>\n",
       "      <td>0.0</td>\n",
       "      <td>0.0</td>\n",
       "      <td>0.0</td>\n",
       "      <td>0.0</td>\n",
       "      <td>0.0</td>\n",
       "      <td>0.0</td>\n",
       "    </tr>\n",
       "    <tr>\n",
       "      <th>4</th>\n",
       "      <td>Хаксли</td>\n",
       "      <td>16456</td>\n",
       "      <td>Хаксли о дивный новый мир часть 6</td>\n",
       "      <td>0.000122</td>\n",
       "      <td>0.001823</td>\n",
       "      <td>0.003889</td>\n",
       "      <td>0.001337</td>\n",
       "      <td>0.003281</td>\n",
       "      <td>0.001398</td>\n",
       "      <td>0.002613</td>\n",
       "      <td>...</td>\n",
       "      <td>0.0</td>\n",
       "      <td>0.0</td>\n",
       "      <td>0.0</td>\n",
       "      <td>0.0</td>\n",
       "      <td>0.0</td>\n",
       "      <td>0.0</td>\n",
       "      <td>0.0</td>\n",
       "      <td>0.0</td>\n",
       "      <td>0.0</td>\n",
       "      <td>0.0</td>\n",
       "    </tr>\n",
       "  </tbody>\n",
       "</table>\n",
       "<p>5 rows × 1092 columns</p>\n",
       "</div>"
      ],
      "text/plain": [
       "   author  lenght                                 name        аа        аб  \\\n",
       "0  Хаксли   16511       Хаксли гений и богиня часть 5  0.000242  0.001938   \n",
       "1  Хаксли   18174      Хаксли. Гений и богиня часть 1  0.000770  0.001871   \n",
       "2  Хаксли   17144       Хаксли гений и богиня часть 4  0.000875  0.001750   \n",
       "3  Хаксли   16904         Хаксли Слепец в Газе часть 1  0.000355  0.001420   \n",
       "4  Хаксли   16456  Хаксли о дивный новый мир часть 6  0.000122  0.001823   \n",
       "\n",
       "         ав        аг        ад        ае        аж ...    ёч   ёш   ёщ   ёъ  \\\n",
       "0  0.004542  0.001514  0.003392  0.002241  0.001575 ...   0.0  0.0  0.0  0.0   \n",
       "1  0.003852  0.001211  0.002751  0.001706  0.001431 ...   0.0  0.0  0.0  0.0   \n",
       "2  0.003266  0.000875  0.002158  0.001400  0.001400 ...   0.0  0.0  0.0  0.0   \n",
       "3  0.005147  0.001538  0.002603  0.002544  0.001656 ...   0.0  0.0  0.0  0.0   \n",
       "4  0.003889  0.001337  0.003281  0.001398  0.002613 ...   0.0  0.0  0.0  0.0   \n",
       "\n",
       "    ёы   ёь   ёэ   ёю   ёя   ёё  \n",
       "0  0.0  0.0  0.0  0.0  0.0  0.0  \n",
       "1  0.0  0.0  0.0  0.0  0.0  0.0  \n",
       "2  0.0  0.0  0.0  0.0  0.0  0.0  \n",
       "3  0.0  0.0  0.0  0.0  0.0  0.0  \n",
       "4  0.0  0.0  0.0  0.0  0.0  0.0  \n",
       "\n",
       "[5 rows x 1092 columns]"
      ]
     },
     "execution_count": 246,
     "metadata": {},
     "output_type": "execute_result"
    }
   ],
   "source": [
    "df.head()"
   ]
  },
  {
   "cell_type": "code",
   "execution_count": 333,
   "metadata": {},
   "outputs": [],
   "source": [
    "def build_mean(df, authors):\n",
    "    mean_authors = {author : [] for author in authors}\n",
    "    df_mean = df.groupby('author').mean()\n",
    "    for author in authors:\n",
    "        idx = np.where(df_mean.index.values == author)[0][0]\n",
    "        mean_authors[author] = df_mean.values[idx,1:]\n",
    "    return mean_authors"
   ]
  },
  {
   "cell_type": "code",
   "execution_count": 334,
   "metadata": {},
   "outputs": [
    {
     "data": {
      "text/plain": [
       "{'Хаксли': array([0.00031533, 0.00177903, 0.00439904, ..., 0.        , 0.        ,\n",
       "        0.        ]),\n",
       " 'Ильин': array([0.00016143, 0.00178386, 0.00483303, ..., 0.        , 0.        ,\n",
       "        0.        ]),\n",
       " 'Калинина': array([0.00022998, 0.00204952, 0.00608202, ..., 0.        , 0.        ,\n",
       "        0.        ]),\n",
       " 'Курпатов': array([0.00014818, 0.00136453, 0.0038245 , ..., 0.        , 0.        ,\n",
       "        0.        ]),\n",
       " 'Агапкин': array([0.00024623, 0.00250982, 0.00301746, ..., 0.        , 0.        ,\n",
       "        0.        ]),\n",
       " 'Марк Фрост': array([0.00010484, 0.00158462, 0.00434727, ..., 0.        , 0.        ,\n",
       "        0.        ]),\n",
       " 'Достоевский': array([0.00015938, 0.00135644, 0.00479963, ..., 0.        , 0.        ,\n",
       "        0.        ]),\n",
       " 'Тургенев': array([0.00012003, 0.00114977, 0.00606656, ..., 0.        , 0.        ,\n",
       "        0.        ]),\n",
       " 'Генри Миллер': array([0.00013826, 0.00151943, 0.00438973, ..., 0.        , 0.        ,\n",
       "        0.        ]),\n",
       " 'Александрова': array([0.00020835, 0.00211155, 0.00536516, ..., 0.        , 0.        ,\n",
       "        0.        ]),\n",
       " 'Казанцев': array([0.00021722, 0.00192218, 0.00542065, ..., 0.        , 0.        ,\n",
       "        0.        ])}"
      ]
     },
     "execution_count": 334,
     "metadata": {},
     "output_type": "execute_result"
    }
   ],
   "source": [
    "df_mean = build_mean(df, unique_authors)\n",
    "df_mean"
   ]
  },
  {
   "cell_type": "code",
   "execution_count": 335,
   "metadata": {},
   "outputs": [],
   "source": [
    "def build_confidence_interval(df, mean_values, authors):\n",
    "    intervals = {author : [] for author in authors}\n",
    "    for author in authors:\n",
    "        author_mean = mean_values[author]\n",
    "        author_intervals = []\n",
    "        for _i, row in df.loc[df.author == author].iterrows():\n",
    "            author_intervals.append(np.abs(author_mean-row[3:]))\n",
    "            \n",
    "        intervals[author] = _T*np.mean(author_intervals, axis=0)\n",
    "    return intervals"
   ]
  },
  {
   "cell_type": "code",
   "execution_count": 337,
   "metadata": {},
   "outputs": [
    {
     "data": {
      "text/plain": [
       "{'Хаксли': array([0.00042417666285501156, 0.0004978206857208515,\n",
       "        0.0012464776526514437, ..., 0.0, 0.0, 0.0], dtype=object),\n",
       " 'Ильин': array([0.00018210741781276177, 0.0005825240917857924,\n",
       "        0.0007863891917465158, ..., 0.0, 0.0, 0.0], dtype=object),\n",
       " 'Калинина': array([0.0002189171764858042, 0.0007971360189958723,\n",
       "        0.0012595171761441832, ..., 0.0, 0.0, 0.0], dtype=object),\n",
       " 'Курпатов': array([0.00011053184379196152, 0.0008384701316026313,\n",
       "        0.001654193096001344, ..., 0.0, 0.0, 0.0], dtype=object),\n",
       " 'Агапкин': array([0.00022160071790838643, 0.0009483377531415248,\n",
       "        0.0012522183976239833, ..., 0.0, 0.0, 0.0], dtype=object),\n",
       " 'Марк Фрост': array([0.00010961472028191854, 0.0005940366155850501,\n",
       "        0.000894335101875249, ..., 0.0, 0.0, 0.0], dtype=object),\n",
       " 'Достоевский': array([0.00020463277444388397, 0.0005330542781135433,\n",
       "        0.0012647342085942257, ..., 0.0, 0.0, 0.0], dtype=object),\n",
       " 'Тургенев': array([0.00013982152418814104, 0.0006527634613814976,\n",
       "        0.003018749773628784, ..., 0.0, 0.0, 0.0], dtype=object),\n",
       " 'Генри Миллер': array([0.00015043188233048257, 0.0004741178247119053,\n",
       "        0.0010788760290159675, ..., 0.0, 0.0, 0.0], dtype=object),\n",
       " 'Александрова': array([0.00021841700685156637, 0.0008319990986567975,\n",
       "        0.0009314127266727189, ..., 0.0, 0.0, 0.0], dtype=object),\n",
       " 'Казанцев': array([0.00025581121227950197, 0.0005454925891303044,\n",
       "        0.0010236721599931006, ..., 0.0, 0.0, 0.0], dtype=object)}"
      ]
     },
     "execution_count": 337,
     "metadata": {},
     "output_type": "execute_result"
    }
   ],
   "source": [
    "confidence_interval = build_confidence_interval(df, df_mean, unique_authors)\n",
    "confidence_interval"
   ]
  },
  {
   "cell_type": "markdown",
   "metadata": {},
   "source": [
    "# Prediction"
   ]
  },
  {
   "cell_type": "code",
   "execution_count": 338,
   "metadata": {},
   "outputs": [
    {
     "name": "stdout",
     "output_type": "stream",
     "text": [
      "\u001b[91m .DS_Store file \u001b[0m\n"
     ]
    }
   ],
   "source": [
    "predict = read_unknown('./predict20', n_grams)"
   ]
  },
  {
   "cell_type": "code",
   "execution_count": 340,
   "metadata": {},
   "outputs": [
    {
     "data": {
      "text/html": [
       "<div>\n",
       "<style scoped>\n",
       "    .dataframe tbody tr th:only-of-type {\n",
       "        vertical-align: middle;\n",
       "    }\n",
       "\n",
       "    .dataframe tbody tr th {\n",
       "        vertical-align: top;\n",
       "    }\n",
       "\n",
       "    .dataframe thead th {\n",
       "        text-align: right;\n",
       "    }\n",
       "</style>\n",
       "<table border=\"1\" class=\"dataframe\">\n",
       "  <thead>\n",
       "    <tr style=\"text-align: right;\">\n",
       "      <th></th>\n",
       "      <th>lenght</th>\n",
       "      <th>name</th>\n",
       "      <th>аа</th>\n",
       "      <th>аб</th>\n",
       "      <th>ав</th>\n",
       "      <th>аг</th>\n",
       "      <th>ад</th>\n",
       "      <th>ае</th>\n",
       "      <th>аж</th>\n",
       "      <th>аз</th>\n",
       "      <th>...</th>\n",
       "      <th>ёч</th>\n",
       "      <th>ёш</th>\n",
       "      <th>ёщ</th>\n",
       "      <th>ёъ</th>\n",
       "      <th>ёы</th>\n",
       "      <th>ёь</th>\n",
       "      <th>ёэ</th>\n",
       "      <th>ёю</th>\n",
       "      <th>ёя</th>\n",
       "      <th>ёё</th>\n",
       "    </tr>\n",
       "  </thead>\n",
       "  <tbody>\n",
       "    <tr>\n",
       "      <th>0</th>\n",
       "      <td>16177</td>\n",
       "      <td>марк фрост. пробуждение часть 3</td>\n",
       "      <td>0.000124</td>\n",
       "      <td>0.000742</td>\n",
       "      <td>0.004389</td>\n",
       "      <td>0.001051</td>\n",
       "      <td>0.002967</td>\n",
       "      <td>0.000680</td>\n",
       "      <td>0.001113</td>\n",
       "      <td>0.003771</td>\n",
       "      <td>...</td>\n",
       "      <td>0.0</td>\n",
       "      <td>0.0</td>\n",
       "      <td>0.0</td>\n",
       "      <td>0.0</td>\n",
       "      <td>0.0</td>\n",
       "      <td>0.0</td>\n",
       "      <td>0.0</td>\n",
       "      <td>0.0</td>\n",
       "      <td>0.0</td>\n",
       "      <td>0.0</td>\n",
       "    </tr>\n",
       "    <tr>\n",
       "      <th>1</th>\n",
       "      <td>17510</td>\n",
       "      <td>марк фрост. список семи часть 1</td>\n",
       "      <td>0.000171</td>\n",
       "      <td>0.001371</td>\n",
       "      <td>0.006054</td>\n",
       "      <td>0.001142</td>\n",
       "      <td>0.002342</td>\n",
       "      <td>0.001542</td>\n",
       "      <td>0.001885</td>\n",
       "      <td>0.004512</td>\n",
       "      <td>...</td>\n",
       "      <td>0.0</td>\n",
       "      <td>0.0</td>\n",
       "      <td>0.0</td>\n",
       "      <td>0.0</td>\n",
       "      <td>0.0</td>\n",
       "      <td>0.0</td>\n",
       "      <td>0.0</td>\n",
       "      <td>0.0</td>\n",
       "      <td>0.0</td>\n",
       "      <td>0.0</td>\n",
       "    </tr>\n",
       "    <tr>\n",
       "      <th>2</th>\n",
       "      <td>14335</td>\n",
       "      <td>Самое главное о сердце и сосудах. С. Агапкин. ...</td>\n",
       "      <td>0.000767</td>\n",
       "      <td>0.003139</td>\n",
       "      <td>0.002721</td>\n",
       "      <td>0.002721</td>\n",
       "      <td>0.000907</td>\n",
       "      <td>0.001186</td>\n",
       "      <td>0.001116</td>\n",
       "      <td>0.002930</td>\n",
       "      <td>...</td>\n",
       "      <td>0.0</td>\n",
       "      <td>0.0</td>\n",
       "      <td>0.0</td>\n",
       "      <td>0.0</td>\n",
       "      <td>0.0</td>\n",
       "      <td>0.0</td>\n",
       "      <td>0.0</td>\n",
       "      <td>0.0</td>\n",
       "      <td>0.0</td>\n",
       "      <td>0.0</td>\n",
       "    </tr>\n",
       "    <tr>\n",
       "      <th>3</th>\n",
       "      <td>17506</td>\n",
       "      <td>Самое главное о сердце и сосудах. С. Агапкин. ...</td>\n",
       "      <td>0.000228</td>\n",
       "      <td>0.002399</td>\n",
       "      <td>0.003713</td>\n",
       "      <td>0.001714</td>\n",
       "      <td>0.001257</td>\n",
       "      <td>0.002513</td>\n",
       "      <td>0.001485</td>\n",
       "      <td>0.002456</td>\n",
       "      <td>...</td>\n",
       "      <td>0.0</td>\n",
       "      <td>0.0</td>\n",
       "      <td>0.0</td>\n",
       "      <td>0.0</td>\n",
       "      <td>0.0</td>\n",
       "      <td>0.0</td>\n",
       "      <td>0.0</td>\n",
       "      <td>0.0</td>\n",
       "      <td>0.0</td>\n",
       "      <td>0.0</td>\n",
       "    </tr>\n",
       "    <tr>\n",
       "      <th>4</th>\n",
       "      <td>16258</td>\n",
       "      <td>Тургенев. Отцы и дети. часть 1</td>\n",
       "      <td>0.000123</td>\n",
       "      <td>0.000923</td>\n",
       "      <td>0.004490</td>\n",
       "      <td>0.000923</td>\n",
       "      <td>0.005167</td>\n",
       "      <td>0.000861</td>\n",
       "      <td>0.001722</td>\n",
       "      <td>0.004244</td>\n",
       "      <td>...</td>\n",
       "      <td>0.0</td>\n",
       "      <td>0.0</td>\n",
       "      <td>0.0</td>\n",
       "      <td>0.0</td>\n",
       "      <td>0.0</td>\n",
       "      <td>0.0</td>\n",
       "      <td>0.0</td>\n",
       "      <td>0.0</td>\n",
       "      <td>0.0</td>\n",
       "      <td>0.0</td>\n",
       "    </tr>\n",
       "  </tbody>\n",
       "</table>\n",
       "<p>5 rows × 1091 columns</p>\n",
       "</div>"
      ],
      "text/plain": [
       "   lenght                                               name        аа  \\\n",
       "0   16177                    марк фрост. пробуждение часть 3  0.000124   \n",
       "1   17510                    марк фрост. список семи часть 1  0.000171   \n",
       "2   14335  Самое главное о сердце и сосудах. С. Агапкин. ...  0.000767   \n",
       "3   17506  Самое главное о сердце и сосудах. С. Агапкин. ...  0.000228   \n",
       "4   16258                     Тургенев. Отцы и дети. часть 1  0.000123   \n",
       "\n",
       "         аб        ав        аг        ад        ае        аж        аз ...   \\\n",
       "0  0.000742  0.004389  0.001051  0.002967  0.000680  0.001113  0.003771 ...    \n",
       "1  0.001371  0.006054  0.001142  0.002342  0.001542  0.001885  0.004512 ...    \n",
       "2  0.003139  0.002721  0.002721  0.000907  0.001186  0.001116  0.002930 ...    \n",
       "3  0.002399  0.003713  0.001714  0.001257  0.002513  0.001485  0.002456 ...    \n",
       "4  0.000923  0.004490  0.000923  0.005167  0.000861  0.001722  0.004244 ...    \n",
       "\n",
       "    ёч   ёш   ёщ   ёъ   ёы   ёь   ёэ   ёю   ёя   ёё  \n",
       "0  0.0  0.0  0.0  0.0  0.0  0.0  0.0  0.0  0.0  0.0  \n",
       "1  0.0  0.0  0.0  0.0  0.0  0.0  0.0  0.0  0.0  0.0  \n",
       "2  0.0  0.0  0.0  0.0  0.0  0.0  0.0  0.0  0.0  0.0  \n",
       "3  0.0  0.0  0.0  0.0  0.0  0.0  0.0  0.0  0.0  0.0  \n",
       "4  0.0  0.0  0.0  0.0  0.0  0.0  0.0  0.0  0.0  0.0  \n",
       "\n",
       "[5 rows x 1091 columns]"
      ]
     },
     "execution_count": 340,
     "metadata": {},
     "output_type": "execute_result"
    }
   ],
   "source": [
    "df_predict = pd.DataFrame(predict)\n",
    "df_predict.head()"
   ]
  },
  {
   "cell_type": "code",
   "execution_count": 373,
   "metadata": {},
   "outputs": [],
   "source": [
    "def predict_author(data_text, intervals, means):\n",
    "    authors_total = {key: 0 for key in means.keys()}\n",
    "    for _author in means:\n",
    "        diff = len(list(filter(lambda x: (x < 0), np.array(intervals[_author]) - np.abs(means[_author]-data_text))))\n",
    "        authors_total[_author] = diff/len(data_text)\n",
    "    #print(authors_total)\n",
    "    return authors_total"
   ]
  },
  {
   "cell_type": "code",
   "execution_count": 377,
   "metadata": {},
   "outputs": [
    {
     "name": "stdout",
     "output_type": "stream",
     "text": [
      "марк фрост. пробуждение часть 3  :  Марк Фрост\n",
      "марк фрост. список семи часть 1  :  Марк Фрост\n",
      "Самое главное о сердце и сосудах. С. Агапкин. часть 3  :  Агапкин\n",
      "Самое главное о сердце и сосудах. С. Агапкин. часть 2  :  Агапкин\n",
      "Тургенев. Отцы и дети. часть 1  :  Тургенев\n",
      "Казанцев К. Ненасытные часть 6  :  Казанцев\n",
      "Курпатов А. Чертоги разума часть 2  :  Курпатов\n",
      "Хаксли. гений и богиня часть3  :  Хаксли\n",
      "Курпатов А. Чертоги разума часть 3  :  Курпатов\n",
      "Курпатов А. Чертоги разума часть4  :  Курпатов\n",
      "александрова. китайская кукла часть 1  :  Александрова\n",
      "марк фрост. пробуждение часть 1  :  Марк Фрост\n",
      "Ильин А. Маска резидента часть 7  :  Ильин\n",
      "Хаксли. Гений и богиня часть 2  :  Достоевский\n",
      "Ильин А. Маска резидента часть 8  :  Ильин\n",
      "Казанцев К. Ненасытные часть 5  :  Казанцев\n",
      "Тургенев. Муму  :  Достоевский\n",
      "Александрова. Венец гекаты часть 1  :  Александрова\n",
      "Курпатов А. Чертоги разума чать 1  :  Курпатов\n"
     ]
    }
   ],
   "source": [
    "for _i, row in df_predict.iterrows():\n",
    "    _title = row.values[1]\n",
    "    data_row = row.values[2:]\n",
    "    predictions = predict_author(data_row, confidence_interval, df_mean)\n",
    "    print(_title,' : ',  min(predictions, key = lambda x: predictions.get(x)))"
   ]
  },
  {
   "cell_type": "code",
   "execution_count": null,
   "metadata": {},
   "outputs": [],
   "source": []
  }
 ],
 "metadata": {
  "kernelspec": {
   "display_name": "Python 3",
   "language": "python",
   "name": "python3"
  },
  "language_info": {
   "codemirror_mode": {
    "name": "ipython",
    "version": 3
   },
   "file_extension": ".py",
   "mimetype": "text/x-python",
   "name": "python",
   "nbconvert_exporter": "python",
   "pygments_lexer": "ipython3",
   "version": "3.7.1"
  }
 },
 "nbformat": 4,
 "nbformat_minor": 2
}
