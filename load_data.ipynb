{
 "cells": [
  {
   "cell_type": "code",
   "execution_count": 1,
   "metadata": {},
   "outputs": [],
   "source": [
    "import numpy as np\n",
    "import pandas as pd\n",
    "import sklearn"
   ]
  },
  {
   "cell_type": "markdown",
   "metadata": {},
   "source": [
    "Read from directory and creating dataframe"
   ]
  },
  {
   "cell_type": "code",
   "execution_count": 2,
   "metadata": {},
   "outputs": [
    {
     "data": {
      "text/html": [
       "<div>\n",
       "<style scoped>\n",
       "    .dataframe tbody tr th:only-of-type {\n",
       "        vertical-align: middle;\n",
       "    }\n",
       "\n",
       "    .dataframe tbody tr th {\n",
       "        vertical-align: top;\n",
       "    }\n",
       "\n",
       "    .dataframe thead th {\n",
       "        text-align: right;\n",
       "    }\n",
       "</style>\n",
       "<table border=\"1\" class=\"dataframe\">\n",
       "  <thead>\n",
       "    <tr style=\"text-align: right;\">\n",
       "      <th></th>\n",
       "      <th>text</th>\n",
       "      <th>author</th>\n",
       "    </tr>\n",
       "  </thead>\n",
       "  <tbody>\n",
       "    <tr>\n",
       "      <th>0</th>\n",
       "      <td>На единственной известной, живой планете\\nНа с...</td>\n",
       "      <td>guf</td>\n",
       "    </tr>\n",
       "    <tr>\n",
       "      <th>1</th>\n",
       "      <td>Давайте немного подумаем, посмеемся\\nОдну секу...</td>\n",
       "      <td>guf</td>\n",
       "    </tr>\n",
       "    <tr>\n",
       "      <th>2</th>\n",
       "      <td>Я вообще то не привык жаловаться на здоровье,\\...</td>\n",
       "      <td>guf</td>\n",
       "    </tr>\n",
       "    <tr>\n",
       "      <th>3</th>\n",
       "      <td>Когда мне очень плохо или слишком хорошо\\nЯ де...</td>\n",
       "      <td>guf</td>\n",
       "    </tr>\n",
       "    <tr>\n",
       "      <th>4</th>\n",
       "      <td>Все, как мы любим, это просто мысли вслух\\nКог...</td>\n",
       "      <td>guf</td>\n",
       "    </tr>\n",
       "    <tr>\n",
       "      <th>5</th>\n",
       "      <td>Затянись мною в последний раз,\\nТкни меня морд...</td>\n",
       "      <td>noizemc</td>\n",
       "    </tr>\n",
       "    <tr>\n",
       "      <th>6</th>\n",
       "      <td>Если вселенная бесконечна, действительно\\nЗнач...</td>\n",
       "      <td>noizemc</td>\n",
       "    </tr>\n",
       "    <tr>\n",
       "      <th>7</th>\n",
       "      <td>Моё море, прошу тебя, не выплюни меня на берег...</td>\n",
       "      <td>noizemc</td>\n",
       "    </tr>\n",
       "    <tr>\n",
       "      <th>8</th>\n",
       "      <td>Лица бородатые, камуфляж, автоматы,\\nНеприятны...</td>\n",
       "      <td>noizemc</td>\n",
       "    </tr>\n",
       "    <tr>\n",
       "      <th>9</th>\n",
       "      <td>На Марсе классно - красные пески, крутые горы ...</td>\n",
       "      <td>noizemc</td>\n",
       "    </tr>\n",
       "    <tr>\n",
       "      <th>10</th>\n",
       "      <td>Да ладно не парься, мне всё понятно \\nЧё я, ту...</td>\n",
       "      <td>basta</td>\n",
       "    </tr>\n",
       "    <tr>\n",
       "      <th>11</th>\n",
       "      <td>Дай мне то, чего я так хочу!\\nДай мне, дай!\\nД...</td>\n",
       "      <td>basta</td>\n",
       "    </tr>\n",
       "    <tr>\n",
       "      <th>12</th>\n",
       "      <td>Будь проще, проживешь дольше\\nСлышишь кореш, б...</td>\n",
       "      <td>basta</td>\n",
       "    </tr>\n",
       "    <tr>\n",
       "      <th>13</th>\n",
       "      <td>Прошел год, он был непростым, но плодотворным\\...</td>\n",
       "      <td>basta</td>\n",
       "    </tr>\n",
       "    <tr>\n",
       "      <th>14</th>\n",
       "      <td>Я знаю, что все роли уже давно розданы\\nОбразы...</td>\n",
       "      <td>basta</td>\n",
       "    </tr>\n",
       "  </tbody>\n",
       "</table>\n",
       "</div>"
      ],
      "text/plain": [
       "                                                 text   author\n",
       "0   На единственной известной, живой планете\\nНа с...      guf\n",
       "1   Давайте немного подумаем, посмеемся\\nОдну секу...      guf\n",
       "2   Я вообще то не привык жаловаться на здоровье,\\...      guf\n",
       "3   Когда мне очень плохо или слишком хорошо\\nЯ де...      guf\n",
       "4   Все, как мы любим, это просто мысли вслух\\nКог...      guf\n",
       "5   Затянись мною в последний раз,\\nТкни меня морд...  noizemc\n",
       "6   Если вселенная бесконечна, действительно\\nЗнач...  noizemc\n",
       "7   Моё море, прошу тебя, не выплюни меня на берег...  noizemc\n",
       "8   Лица бородатые, камуфляж, автоматы,\\nНеприятны...  noizemc\n",
       "9   На Марсе классно - красные пески, крутые горы ...  noizemc\n",
       "10  Да ладно не парься, мне всё понятно \\nЧё я, ту...    basta\n",
       "11  Дай мне то, чего я так хочу!\\nДай мне, дай!\\nД...    basta\n",
       "12  Будь проще, проживешь дольше\\nСлышишь кореш, б...    basta\n",
       "13  Прошел год, он был непростым, но плодотворным\\...    basta\n",
       "14  Я знаю, что все роли уже давно розданы\\nОбразы...    basta"
      ]
     },
     "execution_count": 2,
     "metadata": {},
     "output_type": "execute_result"
    }
   ],
   "source": [
    "import os\n",
    "array = []\n",
    "for _dir in os.listdir(\"./textes\"):\n",
    "    for file in os.listdir(\"./textes/\"+_dir):\n",
    "        filepath = os.path.join(\"./textes/\"+_dir, file)\n",
    "        f = open(filepath, 'r')\n",
    "        text = f.read()\n",
    "        f.close()\n",
    "        array.append([text,_dir])\n",
    "df = pd.DataFrame(array,columns=['text','author'])\n",
    "df"
   ]
  },
  {
   "cell_type": "code",
   "execution_count": 36,
   "metadata": {},
   "outputs": [
    {
     "ename": "SyntaxError",
     "evalue": "invalid syntax (<ipython-input-36-16d427f4b1b3>, line 1)",
     "output_type": "error",
     "traceback": [
      "\u001b[0;36m  File \u001b[0;32m\"<ipython-input-36-16d427f4b1b3>\"\u001b[0;36m, line \u001b[0;32m1\u001b[0m\n\u001b[0;31m    df.loc[]={}\u001b[0m\n\u001b[0m           ^\u001b[0m\n\u001b[0;31mSyntaxError\u001b[0m\u001b[0;31m:\u001b[0m invalid syntax\n"
     ]
    }
   ],
   "source": []
  },
  {
   "cell_type": "code",
   "execution_count": null,
   "metadata": {},
   "outputs": [],
   "source": []
  }
 ],
 "metadata": {
  "kernelspec": {
   "display_name": "Python 3",
   "language": "python",
   "name": "python3"
  },
  "language_info": {
   "codemirror_mode": {
    "name": "ipython",
    "version": 3
   },
   "file_extension": ".py",
   "mimetype": "text/x-python",
   "name": "python",
   "nbconvert_exporter": "python",
   "pygments_lexer": "ipython3",
   "version": "3.5.2"
  }
 },
 "nbformat": 4,
 "nbformat_minor": 2
}
