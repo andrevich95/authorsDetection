{
 "cells": [
  {
   "cell_type": "code",
   "execution_count": 76,
   "metadata": {},
   "outputs": [],
   "source": [
    "import numpy as np\n",
    "import pandas as pd\n",
    "from itertools import product\n",
    "#from nltk import ngrams\n",
    "#import sklearn\n",
    "import matplotlib.pyplot as plt\n",
    "import seaborn as sns\n",
    "import os"
   ]
  },
  {
   "cell_type": "markdown",
   "metadata": {},
   "source": [
    "# Calculate n grams"
   ]
  },
  {
   "cell_type": "code",
   "execution_count": 161,
   "metadata": {},
   "outputs": [],
   "source": [
    "alphabet = 'абвгдеёжзийклмнопрстуфхцчьыъшщэюя'\n",
    "n = 2\n",
    "\n",
    "def build_n_grams(n):\n",
    "    #combinations = dict()\n",
    "    #for i in range(1,n+1):\n",
    "    combinations = [''.join(val) for val in [p for p in product(list(alphabet),repeat = n)]]\n",
    "    return combinations\n",
    "\n",
    "n_grams = build_n_grams(n)"
   ]
  },
  {
   "cell_type": "markdown",
   "metadata": {},
   "source": [
    "# Read textes and build dataframe"
   ]
  },
  {
   "cell_type": "code",
   "execution_count": 162,
   "metadata": {},
   "outputs": [],
   "source": [
    "def build_dataframe(text: str, gramms):\n",
    "    text_data = {}\n",
    "    for i in gramms:\n",
    "        text_data[i] = text.count(i)\n",
    "    return text_data"
   ]
  },
  {
   "cell_type": "code",
   "execution_count": 163,
   "metadata": {},
   "outputs": [],
   "source": [
    "def read_text(filepath, n_grams):\n",
    "    data = {}\n",
    "    with open(filepath, 'r') as f:\n",
    "        try:\n",
    "            text = ''.join(filter(str.isalpha, f.read()))\n",
    "            data['lenght'] = len(text)\n",
    "            data.update(build_dataframe(text, n_grams))\n",
    "        except UnicodeDecodeError as e: \n",
    "            print('Unable to read the text (some encoding errors)')\n",
    "            print('\\033[91m {} \\033[0m'.format(str(e)))\n",
    "    return data"
   ]
  },
  {
   "cell_type": "code",
   "execution_count": 164,
   "metadata": {},
   "outputs": [],
   "source": [
    "def read_authors(dirname, n_grams):\n",
    "    data = []\n",
    "    for _dir in os.listdir(dirname):\n",
    "        _current_dir = os.path.join(dirname,_dir)\n",
    "        if(os.path.isdir(_current_dir)):\n",
    "            for _file in os.listdir(_current_dir):\n",
    "                if '.DS_Store' in _file:\n",
    "                    print('\\033[91m {} \\033[0m'.format(str('.DS_Store file')))\n",
    "                else:\n",
    "                    filepath = os.path.join(_current_dir, _file)\n",
    "                    text = None\n",
    "                    string_data = {'author': _dir, 'name': _file}\n",
    "                    string_data.update(read_text(filepath, n_grams))\n",
    "                    data.append(string_data)\n",
    "    return data"
   ]
  },
  {
   "cell_type": "markdown",
   "metadata": {},
   "source": [
    "# Read data for prediction "
   ]
  },
  {
   "cell_type": "code",
   "execution_count": 165,
   "metadata": {},
   "outputs": [],
   "source": [
    "def read_unknown(path, n_grams):\n",
    "    data = {}\n",
    "    for _file in os.listdir(path):\n",
    "        if '.DS_Store' in _file:\n",
    "            print('\\033[91m {} \\033[0m'.format(str('.DS_Store file')))\n",
    "        else:\n",
    "            data[_file] = [read_text(os.path.join(path, _file), n_grams)]\n",
    "    return data"
   ]
  },
  {
   "cell_type": "markdown",
   "metadata": {},
   "source": [
    "# Modify data and calculate PDF"
   ]
  },
  {
   "cell_type": "code",
   "execution_count": 167,
   "metadata": {},
   "outputs": [
    {
     "name": "stdout",
     "output_type": "stream",
     "text": [
      "\u001b[91m .DS_Store file \u001b[0m\n",
      "\u001b[91m .DS_Store file \u001b[0m\n",
      "\u001b[91m .DS_Store file \u001b[0m\n",
      "\u001b[91m .DS_Store file \u001b[0m\n",
      "\u001b[91m .DS_Store file \u001b[0m\n",
      "\u001b[91m .DS_Store file \u001b[0m\n",
      "\u001b[91m .DS_Store file \u001b[0m\n",
      "\u001b[91m .DS_Store file \u001b[0m\n",
      "\u001b[91m .DS_Store file \u001b[0m\n",
      "\u001b[91m .DS_Store file \u001b[0m\n"
     ]
    }
   ],
   "source": [
    "data = read_authors('./50 000', n_grams)\n",
    "df = pd.DataFrame(data)\n",
    "unique_authors = df.author.unique()"
   ]
  },
  {
   "cell_type": "code",
   "execution_count": 168,
   "metadata": {},
   "outputs": [
    {
     "data": {
      "text/html": [
       "<div>\n",
       "<style scoped>\n",
       "    .dataframe tbody tr th:only-of-type {\n",
       "        vertical-align: middle;\n",
       "    }\n",
       "\n",
       "    .dataframe tbody tr th {\n",
       "        vertical-align: top;\n",
       "    }\n",
       "\n",
       "    .dataframe thead th {\n",
       "        text-align: right;\n",
       "    }\n",
       "</style>\n",
       "<table border=\"1\" class=\"dataframe\">\n",
       "  <thead>\n",
       "    <tr style=\"text-align: right;\">\n",
       "      <th></th>\n",
       "      <th>author</th>\n",
       "      <th>lenght</th>\n",
       "      <th>name</th>\n",
       "      <th>аа</th>\n",
       "      <th>аб</th>\n",
       "      <th>ав</th>\n",
       "      <th>аг</th>\n",
       "      <th>ад</th>\n",
       "      <th>ае</th>\n",
       "      <th>аж</th>\n",
       "      <th>...</th>\n",
       "      <th>ёч</th>\n",
       "      <th>ёш</th>\n",
       "      <th>ёщ</th>\n",
       "      <th>ёъ</th>\n",
       "      <th>ёы</th>\n",
       "      <th>ёь</th>\n",
       "      <th>ёэ</th>\n",
       "      <th>ёю</th>\n",
       "      <th>ёя</th>\n",
       "      <th>ёё</th>\n",
       "    </tr>\n",
       "  </thead>\n",
       "  <tbody>\n",
       "    <tr>\n",
       "      <th>0</th>\n",
       "      <td>Хаскли</td>\n",
       "      <td>44158</td>\n",
       "      <td>Хаксли О. Гений и богиня. часть 3</td>\n",
       "      <td>20</td>\n",
       "      <td>68</td>\n",
       "      <td>187</td>\n",
       "      <td>81</td>\n",
       "      <td>117</td>\n",
       "      <td>88</td>\n",
       "      <td>64</td>\n",
       "      <td>...</td>\n",
       "      <td>0</td>\n",
       "      <td>0</td>\n",
       "      <td>0</td>\n",
       "      <td>0</td>\n",
       "      <td>0</td>\n",
       "      <td>0</td>\n",
       "      <td>0</td>\n",
       "      <td>0</td>\n",
       "      <td>0</td>\n",
       "      <td>0</td>\n",
       "    </tr>\n",
       "    <tr>\n",
       "      <th>1</th>\n",
       "      <td>Калинина</td>\n",
       "      <td>41566</td>\n",
       "      <td>Калинина Н. Узор твоих снов часть 1</td>\n",
       "      <td>8</td>\n",
       "      <td>68</td>\n",
       "      <td>243</td>\n",
       "      <td>44</td>\n",
       "      <td>203</td>\n",
       "      <td>69</td>\n",
       "      <td>65</td>\n",
       "      <td>...</td>\n",
       "      <td>0</td>\n",
       "      <td>0</td>\n",
       "      <td>0</td>\n",
       "      <td>0</td>\n",
       "      <td>0</td>\n",
       "      <td>0</td>\n",
       "      <td>0</td>\n",
       "      <td>0</td>\n",
       "      <td>0</td>\n",
       "      <td>0</td>\n",
       "    </tr>\n",
       "    <tr>\n",
       "      <th>2</th>\n",
       "      <td>Агапкин</td>\n",
       "      <td>44267</td>\n",
       "      <td>Агапкин С. 1000 советов доктора Агапкина. часть 2</td>\n",
       "      <td>21</td>\n",
       "      <td>105</td>\n",
       "      <td>184</td>\n",
       "      <td>37</td>\n",
       "      <td>55</td>\n",
       "      <td>154</td>\n",
       "      <td>55</td>\n",
       "      <td>...</td>\n",
       "      <td>0</td>\n",
       "      <td>0</td>\n",
       "      <td>0</td>\n",
       "      <td>0</td>\n",
       "      <td>0</td>\n",
       "      <td>0</td>\n",
       "      <td>0</td>\n",
       "      <td>0</td>\n",
       "      <td>0</td>\n",
       "      <td>0</td>\n",
       "    </tr>\n",
       "    <tr>\n",
       "      <th>3</th>\n",
       "      <td>Достоевский</td>\n",
       "      <td>39502</td>\n",
       "      <td>Достоевский. Идиот</td>\n",
       "      <td>6</td>\n",
       "      <td>25</td>\n",
       "      <td>197</td>\n",
       "      <td>58</td>\n",
       "      <td>90</td>\n",
       "      <td>102</td>\n",
       "      <td>114</td>\n",
       "      <td>...</td>\n",
       "      <td>1</td>\n",
       "      <td>0</td>\n",
       "      <td>0</td>\n",
       "      <td>0</td>\n",
       "      <td>0</td>\n",
       "      <td>0</td>\n",
       "      <td>6</td>\n",
       "      <td>0</td>\n",
       "      <td>0</td>\n",
       "      <td>0</td>\n",
       "    </tr>\n",
       "    <tr>\n",
       "      <th>4</th>\n",
       "      <td>Марк Фрост</td>\n",
       "      <td>41165</td>\n",
       "      <td>Марк Фрост. Список семи часть 2</td>\n",
       "      <td>5</td>\n",
       "      <td>59</td>\n",
       "      <td>201</td>\n",
       "      <td>54</td>\n",
       "      <td>97</td>\n",
       "      <td>58</td>\n",
       "      <td>66</td>\n",
       "      <td>...</td>\n",
       "      <td>0</td>\n",
       "      <td>0</td>\n",
       "      <td>0</td>\n",
       "      <td>0</td>\n",
       "      <td>0</td>\n",
       "      <td>0</td>\n",
       "      <td>0</td>\n",
       "      <td>0</td>\n",
       "      <td>0</td>\n",
       "      <td>0</td>\n",
       "    </tr>\n",
       "  </tbody>\n",
       "</table>\n",
       "<p>5 rows × 1092 columns</p>\n",
       "</div>"
      ],
      "text/plain": [
       "         author  lenght                                               name  \\\n",
       "0        Хаскли   44158                 Хаксли О. Гений и богиня. часть 3   \n",
       "1      Калинина   41566                Калинина Н. Узор твоих снов часть 1   \n",
       "2       Агапкин   44267  Агапкин С. 1000 советов доктора Агапкина. часть 2   \n",
       "3  Достоевский   39502                                Достоевский. Идиот   \n",
       "4    Марк Фрост   41165                    Марк Фрост. Список семи часть 2   \n",
       "\n",
       "   аа   аб   ав  аг   ад   ае   аж ...  ёч  ёш  ёщ  ёъ  ёы  ёь  ёэ  ёю  ёя  ёё  \n",
       "0  20   68  187  81  117   88   64 ...   0   0   0   0   0   0   0   0   0   0  \n",
       "1   8   68  243  44  203   69   65 ...   0   0   0   0   0   0   0   0   0   0  \n",
       "2  21  105  184  37   55  154   55 ...   0   0   0   0   0   0   0   0   0   0  \n",
       "3   6   25  197  58   90  102  114 ...   1   0   0   0   0   0   6   0   0   0  \n",
       "4   5   59  201  54   97   58   66 ...   0   0   0   0   0   0   0   0   0   0  \n",
       "\n",
       "[5 rows x 1092 columns]"
      ]
     },
     "execution_count": 168,
     "metadata": {},
     "output_type": "execute_result"
    }
   ],
   "source": [
    "df = df.sample(frac=1).reset_index(drop=True)\n",
    "df.head()"
   ]
  },
  {
   "cell_type": "code",
   "execution_count": 169,
   "metadata": {},
   "outputs": [
    {
     "data": {
      "text/plain": [
       "array(['Хаскли', 'Ильин', 'Калинина', 'Курпатов', 'Агапкин', 'Марк Фрост',\n",
       "       'Достоевский', 'Тургенев', 'Генри Миллер', 'Александрова',\n",
       "       'Казанцев'], dtype=object)"
      ]
     },
     "execution_count": 169,
     "metadata": {},
     "output_type": "execute_result"
    }
   ],
   "source": [
    "#Unique authors list\n",
    "unique_authors"
   ]
  },
  {
   "cell_type": "code",
   "execution_count": 170,
   "metadata": {},
   "outputs": [],
   "source": [
    "#Dense probabulity for all combinations\n",
    "def dense_probability(text_frame):\n",
    "    return text_frame.div(text_frame.lenght, axis=0)\n",
    "\n",
    "def calc_ethalon(author, data_frame):\n",
    "    _df = data_frame.loc[data_frame.author == author].drop(['author', 'name'], axis=1).sum()\n",
    "    return dense_probability(_df)"
   ]
  },
  {
   "cell_type": "code",
   "execution_count": 171,
   "metadata": {},
   "outputs": [],
   "source": [
    "#Calculate distance between text and the ethalon. We need only letters combinations to pass the function arguments\n",
    "def dist_between_text_ethalon(text, ethalon):\n",
    "    dist = np.sum(np.absolute(np.array(text - ethalon)))\n",
    "    return dist\n",
    "#Calculate the deviation of the own textes from pseudo ethalon. Own text is excluded form the ethalon\n",
    "def deviation_own(author, data_frame):\n",
    "    distances = []\n",
    "    current_text = None\n",
    "    ethalon_without_current = None\n",
    "    data_frame = data_frame.loc[data_frame.author == author].drop(['author', 'name'], axis=1)\n",
    "    for i in data_frame.index:\n",
    "        current_text = dense_probability(data_frame.loc[[i]])\n",
    "        ethalon_without_current = dense_probability(data_frame.drop([i], axis=0).sum())\n",
    "        distances.append(dist_between_text_ethalon(current_text, ethalon_without_current))\n",
    "    return distances\n",
    "#Calculate the deviation of the foreign textes from ethalon\n",
    "def deviation_foreign(author, ethalon, data_frame):\n",
    "    distances = []\n",
    "    current_text = None\n",
    "    data_frame = data_frame.loc[data_frame.author != author].drop(['author', 'name'], axis=1)\n",
    "    for i in data_frame.index:\n",
    "        current_text = dense_probability(data_frame.loc[[i]])\n",
    "        distances.append(dist_between_text_ethalon(current_text, ethalon))\n",
    "    return distances"
   ]
  },
  {
   "cell_type": "code",
   "execution_count": 208,
   "metadata": {},
   "outputs": [],
   "source": [
    "#Calculate author ethalon\n",
    "authors_e = {}\n",
    "authors_deviation = {}\n",
    "for author in unique_authors:\n",
    "    authors_e[author] = calc_ethalon(author, df)\n",
    "    authors_deviation[author] = {'own' : min(deviation_own(author, df)), 'foreign' : max(deviation_foreign(author, authors_e[author], df))}"
   ]
  },
  {
   "cell_type": "code",
   "execution_count": 252,
   "metadata": {},
   "outputs": [
    {
     "data": {
      "text/plain": [
       "{'Хаскли': {'own': 0.11143442313592859, 'foreign': 0.38370391598146913},\n",
       " 'Ильин': {'own': 0.14266735328293967, 'foreign': 0.4034276137144661},\n",
       " 'Калинина': {'own': 0.11704816175569563, 'foreign': 0.4420284135128013},\n",
       " 'Курпатов': {'own': 0.13531552838454333, 'foreign': 0.3849726464421892},\n",
       " 'Агапкин': {'own': 0.18212890987222977, 'foreign': 0.41364619865104185},\n",
       " 'Марк Фрост': {'own': 0.126432879587618, 'foreign': 0.4108224998944241},\n",
       " 'Достоевский': {'own': 0.14112832849006085, 'foreign': 0.4375430542263786},\n",
       " 'Тургенев': {'own': 0.1315130453737245, 'foreign': 0.4425852564874873},\n",
       " 'Генри Миллер': {'own': 0.13065119741582587, 'foreign': 0.39364502892409164},\n",
       " 'Александрова': {'own': 0.12008234571367085, 'foreign': 0.416214269564688},\n",
       " 'Казанцев': {'own': 0.12746013384181387, 'foreign': 0.4057676418597427}}"
      ]
     },
     "execution_count": 252,
     "metadata": {},
     "output_type": "execute_result"
    }
   ],
   "source": [
    "#author textes diviation from ethalon\n",
    "authors_deviation"
   ]
  },
  {
   "cell_type": "code",
   "execution_count": 210,
   "metadata": {},
   "outputs": [],
   "source": [
    "ro_div = 1\n",
    "argmin = 0\n",
    "argmax = 10\n",
    "for i in authors_deviation:\n",
    "    if authors_deviation[i]['own'] > argmin:\n",
    "        argmin = authors_deviation[i]['own']\n",
    "    if authors_deviation[i]['foreign'] < argmax:\n",
    "        argmax = authors_deviation[i]['foreign']\n",
    "ro_div = (argmin+argmax)/2"
   ]
  },
  {
   "cell_type": "code",
   "execution_count": 211,
   "metadata": {},
   "outputs": [
    {
     "data": {
      "text/plain": [
       "0.28291641292684944"
      ]
     },
     "execution_count": 211,
     "metadata": {},
     "output_type": "execute_result"
    }
   ],
   "source": [
    "#distance to divide authors\n",
    "ro_div"
   ]
  },
  {
   "cell_type": "markdown",
   "metadata": {},
   "source": [
    "# Authors prediction"
   ]
  },
  {
   "cell_type": "code",
   "execution_count": 251,
   "metadata": {},
   "outputs": [
    {
     "name": "stdout",
     "output_type": "stream",
     "text": [
      "\u001b[91m .DS_Store file \u001b[0m\n"
     ]
    }
   ],
   "source": [
    "predict = read_unknown('./predict', n_grams)"
   ]
  },
  {
   "cell_type": "code",
   "execution_count": 212,
   "metadata": {},
   "outputs": [],
   "source": [
    "def text_distances(text, ethalons):\n",
    "    dist = 1\n",
    "    data_dist = {}\n",
    "    for author in ethalons:\n",
    "        dist = dist_between_text_ethalon(authors_e[author],dense_probability(text))\n",
    "        data_dist[author] = dist\n",
    "    return data_dist\n",
    "def predict_text(text, ethalons, max_dist_own = 1, min_dist_foreign = 1):\n",
    "    distances = text_distances(text, ethalons)\n",
    "    author_min = min(distances, key = lambda x: distances.get(x))\n",
    "    author = author_min if distances[author_min] < ro_div else 'unknown'\n",
    "    return author, distances[author_min]\n",
    "        "
   ]
  },
  {
   "cell_type": "code",
   "execution_count": 213,
   "metadata": {},
   "outputs": [],
   "source": [
    "predictions = {}\n",
    "for i in predict:\n",
    "    predictions[i] = predict_text(pd.DataFrame(predict[i]),authors_e)"
   ]
  },
  {
   "cell_type": "code",
   "execution_count": 253,
   "metadata": {},
   "outputs": [
    {
     "data": {
      "text/plain": [
       "{'Александрова Н. Миллион черных роз': ('Александрова', 0.1461649652283948),\n",
       " 'Слабое сердце - Достоевский': ('Достоевский', 0.22004908703313503),\n",
       " 'Марк Фрост. Шесть Мессий часть 1 4.20.53 PM': ('Марк Фрост',\n",
       "  0.13502469296351713),\n",
       " 'Ползунков - Достоевский': ('Достоевский', 0.21543777771214737)}"
      ]
     },
     "execution_count": 253,
     "metadata": {},
     "output_type": "execute_result"
    }
   ],
   "source": [
    "#prediction for unknown authors\n",
    "predictions"
   ]
  },
  {
   "cell_type": "markdown",
   "metadata": {},
   "source": [
    "# Graphics for the first method"
   ]
  },
  {
   "cell_type": "code",
   "execution_count": 248,
   "metadata": {},
   "outputs": [],
   "source": [
    "def build_data_for_drawing(authors_deviation):\n",
    "    average_distributions_own = []\n",
    "    average_distributions_foreign = []\n",
    "    for dev in authors_deviation:\n",
    "        average_distributions_own.extend(deviation_own(dev, df))\n",
    "        average_distributions_foreign.extend(deviation_foreign(dev,authors_e[dev], df))\n",
    "    x_data_own = np.linspace(min(average_distributions_own), max(average_distributions_own), 10)\n",
    "    y_data_own = np.zeros(10)\n",
    "    for i in average_distributions_own:\n",
    "        y_data_own[np.searchsorted(x_data_own, i)] += 1\n",
    "    y_data_own = y_data_own/len(average_distributions_own)\n",
    "    \n",
    "    x_data_foreign = np.linspace(min(average_distributions_foreign), max(average_distributions_foreign), 10)\n",
    "    y_data_foreign = np.zeros(10)\n",
    "    for i in average_distributions_foreign:\n",
    "        y_data_foreign[np.searchsorted(x_data_foreign, i)] += 1\n",
    "    y_data_foreign = y_data_foreign/len(average_distributions_foreign)\n",
    "    \n",
    "    plt.plot(x_data_own, y_data_own, label=\"own text\")\n",
    "    plt.plot(x_data_foreign, y_data_foreign, label=\"foreign text\")\n",
    "    plt.legend(bbox_to_anchor=(1.05, 1), loc=2, borderaxespad=0.)\n",
    "    \n",
    "    return True"
   ]
  },
  {
   "cell_type": "code",
   "execution_count": 250,
   "metadata": {},
   "outputs": [
    {
     "data": {
      "text/plain": [
       "True"
      ]
     },
     "execution_count": 250,
     "metadata": {},
     "output_type": "execute_result"
    },
    {
     "data": {
      "image/png": "[encoded data removed]",
      "text/plain": [
       "<Figure size 432x288 with 1 Axes>"
      ]
     },
     "metadata": {
      "needs_background": "light"
     },
     "output_type": "display_data"
    }
   ],
   "source": [
    "build_data_for_drawing(authors_deviation)"
   ]
  },
  {
   "cell_type": "code",
   "execution_count": null,
   "metadata": {},
   "outputs": [],
   "source": []
  }
 ],
 "metadata": {
  "kernelspec": {
   "display_name": "Python 3",
   "language": "python",
   "name": "python3"
  },
  "language_info": {
   "codemirror_mode": {
    "name": "ipython",
    "version": 3
   },
   "file_extension": ".py",
   "mimetype": "text/x-python",
   "name": "python",
   "nbconvert_exporter": "python",
   "pygments_lexer": "ipython3",
   "version": "3.7.1"
  }
 },
 "nbformat": 4,
 "nbformat_minor": 2
}
