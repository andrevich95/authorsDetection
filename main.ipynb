{
 "cells": [
  {
   "cell_type": "code",
   "execution_count": 1,
   "metadata": {},
   "outputs": [],
   "source": [
    "import numpy as np\n",
    "import pandas as pd\n",
    "from itertools import product\n",
    "#from nltk import ngrams\n",
    "#import sklearn\n",
    "import matplotlib.pyplot as plt\n",
    "import seaborn as sns\n",
    "import os"
   ]
  },
  {
   "cell_type": "markdown",
   "metadata": {},
   "source": [
    "# Calculate n grams"
   ]
  },
  {
   "cell_type": "code",
   "execution_count": 2,
   "metadata": {},
   "outputs": [],
   "source": [
    "alphabet = 'абвгдеёжзийклмнопрстуфхцчьыъшщэюя'\n",
    "n = 3\n",
    "\n",
    "def build_n_grams(n):\n",
    "    combinations = dict()\n",
    "    for i in range(1,n+1):\n",
    "        combinations[i] = [''.join(val) for val in [p for p in product(list(alphabet),repeat = i)]]\n",
    "    return combinations\n",
    "\n",
    "n_grams = build_n_grams(3)"
   ]
  },
  {
   "cell_type": "markdown",
   "metadata": {},
   "source": [
    "# Read textes and build dataframe"
   ]
  },
  {
   "cell_type": "code",
   "execution_count": 3,
   "metadata": {},
   "outputs": [],
   "source": [
    "def build_dataframe(text: str, gramms):\n",
    "    text_data = {}\n",
    "    for j in gramms:\n",
    "        for i in gramms[j]:\n",
    "            text_data[i] = text.count(i)\n",
    "    return text_data"
   ]
  },
  {
   "cell_type": "code",
   "execution_count": 4,
   "metadata": {},
   "outputs": [],
   "source": [
    "def read_authors(dirname, n_grams):\n",
    "    data = []\n",
    "    for _dir in os.listdir(dirname):\n",
    "        _current_dir = os.path.join(dirname,_dir)\n",
    "        if(os.path.isdir(_current_dir)):\n",
    "            for _file in os.listdir(_current_dir):\n",
    "                filepath = os.path.join(_current_dir, _file)\n",
    "                text = None\n",
    "                string_data = {'author': _dir, 'name': _file}\n",
    "                with open(filepath, 'r') as f:\n",
    "                    try:\n",
    "                        text = ''.join(filter(str.isalpha, f.read()))\n",
    "                        string_data['lenght'] = len(text)\n",
    "                        n_parts = build_dataframe(text, n_grams)\n",
    "                        string_data.update(n_parts)\n",
    "                    except UnicodeDecodeError as e:\n",
    "                        print('Unable to read the text (some encoding errors)')\n",
    "                        print('\\033[91m {} \\033[0m'.format(str(e)))\n",
    "                data.append(string_data)\n",
    "    return data"
   ]
  },
  {
   "cell_type": "code",
   "execution_count": 35,
   "metadata": {},
   "outputs": [],
   "source": [
    "def read_text(filepath):\n",
    "    data = {}\n",
    "    with open(filepath, 'r') as f:\n",
    "        text = ''.join(filter(str.isalpha, f.read()))\n",
    "        data['lenght'] = len(text)\n",
    "        data.update(build_dataframe(text, n_grams))\n",
    "    return data"
   ]
  },
  {
   "cell_type": "code",
   "execution_count": 116,
   "metadata": {},
   "outputs": [],
   "source": [
    "def read_unknown(path):\n",
    "    data = {}\n",
    "    for _file in os.listdir(path):\n",
    "        data[_file] = [read_text(os.path.join(path, _file))]\n",
    "    return data"
   ]
  },
  {
   "cell_type": "code",
   "execution_count": 117,
   "metadata": {},
   "outputs": [],
   "source": [
    "predict = read_unknown('./predict')"
   ]
  },
  {
   "cell_type": "markdown",
   "metadata": {},
   "source": [
    "# Modify data and calculate PDF"
   ]
  },
  {
   "cell_type": "code",
   "execution_count": 192,
   "metadata": {},
   "outputs": [],
   "source": [
    "data = read_authors('./data', n_grams)\n",
    "df = pd.DataFrame(data)\n",
    "unique_authors = df.author.unique()"
   ]
  },
  {
   "cell_type": "code",
   "execution_count": 194,
   "metadata": {},
   "outputs": [
    {
     "data": {
      "text/html": [
       "<div>\n",
       "<style scoped>\n",
       "    .dataframe tbody tr th:only-of-type {\n",
       "        vertical-align: middle;\n",
       "    }\n",
       "\n",
       "    .dataframe tbody tr th {\n",
       "        vertical-align: top;\n",
       "    }\n",
       "\n",
       "    .dataframe thead th {\n",
       "        text-align: right;\n",
       "    }\n",
       "</style>\n",
       "<table border=\"1\" class=\"dataframe\">\n",
       "  <thead>\n",
       "    <tr style=\"text-align: right;\">\n",
       "      <th></th>\n",
       "      <th>author</th>\n",
       "      <th>lenght</th>\n",
       "      <th>name</th>\n",
       "      <th>а</th>\n",
       "      <th>аа</th>\n",
       "      <th>ааа</th>\n",
       "      <th>ааб</th>\n",
       "      <th>аав</th>\n",
       "      <th>ааг</th>\n",
       "      <th>аад</th>\n",
       "      <th>...</th>\n",
       "      <th>ёёч</th>\n",
       "      <th>ёёш</th>\n",
       "      <th>ёёщ</th>\n",
       "      <th>ёёъ</th>\n",
       "      <th>ёёы</th>\n",
       "      <th>ёёь</th>\n",
       "      <th>ёёэ</th>\n",
       "      <th>ёёю</th>\n",
       "      <th>ёёя</th>\n",
       "      <th>ёёё</th>\n",
       "    </tr>\n",
       "  </thead>\n",
       "  <tbody>\n",
       "    <tr>\n",
       "      <th>0</th>\n",
       "      <td>Толстой</td>\n",
       "      <td>5669</td>\n",
       "      <td>Война и мир</td>\n",
       "      <td>436</td>\n",
       "      <td>0</td>\n",
       "      <td>0</td>\n",
       "      <td>0</td>\n",
       "      <td>0</td>\n",
       "      <td>0</td>\n",
       "      <td>0</td>\n",
       "      <td>...</td>\n",
       "      <td>0</td>\n",
       "      <td>0</td>\n",
       "      <td>0</td>\n",
       "      <td>0</td>\n",
       "      <td>0</td>\n",
       "      <td>0</td>\n",
       "      <td>0</td>\n",
       "      <td>0</td>\n",
       "      <td>0</td>\n",
       "      <td>0</td>\n",
       "    </tr>\n",
       "    <tr>\n",
       "      <th>1</th>\n",
       "      <td>Толстой</td>\n",
       "      <td>14702</td>\n",
       "      <td>После бала</td>\n",
       "      <td>1253</td>\n",
       "      <td>2</td>\n",
       "      <td>0</td>\n",
       "      <td>0</td>\n",
       "      <td>0</td>\n",
       "      <td>0</td>\n",
       "      <td>0</td>\n",
       "      <td>...</td>\n",
       "      <td>0</td>\n",
       "      <td>0</td>\n",
       "      <td>0</td>\n",
       "      <td>0</td>\n",
       "      <td>0</td>\n",
       "      <td>0</td>\n",
       "      <td>0</td>\n",
       "      <td>0</td>\n",
       "      <td>0</td>\n",
       "      <td>0</td>\n",
       "    </tr>\n",
       "    <tr>\n",
       "      <th>2</th>\n",
       "      <td>Толстой</td>\n",
       "      <td>8152</td>\n",
       "      <td>Анна Каренина</td>\n",
       "      <td>699</td>\n",
       "      <td>1</td>\n",
       "      <td>0</td>\n",
       "      <td>0</td>\n",
       "      <td>0</td>\n",
       "      <td>0</td>\n",
       "      <td>0</td>\n",
       "      <td>...</td>\n",
       "      <td>0</td>\n",
       "      <td>0</td>\n",
       "      <td>0</td>\n",
       "      <td>0</td>\n",
       "      <td>0</td>\n",
       "      <td>0</td>\n",
       "      <td>0</td>\n",
       "      <td>0</td>\n",
       "      <td>0</td>\n",
       "      <td>0</td>\n",
       "    </tr>\n",
       "    <tr>\n",
       "      <th>3</th>\n",
       "      <td>Гоголь</td>\n",
       "      <td>16794</td>\n",
       "      <td>Тарас Бульба</td>\n",
       "      <td>1418</td>\n",
       "      <td>2</td>\n",
       "      <td>0</td>\n",
       "      <td>0</td>\n",
       "      <td>0</td>\n",
       "      <td>0</td>\n",
       "      <td>0</td>\n",
       "      <td>...</td>\n",
       "      <td>0</td>\n",
       "      <td>0</td>\n",
       "      <td>0</td>\n",
       "      <td>0</td>\n",
       "      <td>0</td>\n",
       "      <td>0</td>\n",
       "      <td>0</td>\n",
       "      <td>0</td>\n",
       "      <td>0</td>\n",
       "      <td>0</td>\n",
       "    </tr>\n",
       "    <tr>\n",
       "      <th>4</th>\n",
       "      <td>Гоголь</td>\n",
       "      <td>10915</td>\n",
       "      <td>Записки сумасшедшего</td>\n",
       "      <td>957</td>\n",
       "      <td>5</td>\n",
       "      <td>0</td>\n",
       "      <td>0</td>\n",
       "      <td>2</td>\n",
       "      <td>0</td>\n",
       "      <td>0</td>\n",
       "      <td>...</td>\n",
       "      <td>0</td>\n",
       "      <td>0</td>\n",
       "      <td>0</td>\n",
       "      <td>0</td>\n",
       "      <td>0</td>\n",
       "      <td>0</td>\n",
       "      <td>0</td>\n",
       "      <td>0</td>\n",
       "      <td>0</td>\n",
       "      <td>0</td>\n",
       "    </tr>\n",
       "  </tbody>\n",
       "</table>\n",
       "<p>5 rows × 37062 columns</p>\n",
       "</div>"
      ],
      "text/plain": [
       "     author  lenght                  name     а  аа  ааа  ааб  аав  ааг  аад  \\\n",
       "0  Толстой    5669          Война и мир   436   0    0    0    0    0    0   \n",
       "1  Толстой   14702            После бала  1253   2    0    0    0    0    0   \n",
       "2  Толстой    8152         Анна Каренина   699   1    0    0    0    0    0   \n",
       "3    Гоголь   16794          Тарас Бульба  1418   2    0    0    0    0    0   \n",
       "4    Гоголь   10915  Записки сумасшедшего   957   5    0    0    2    0    0   \n",
       "\n",
       "  ...   ёёч  ёёш  ёёщ  ёёъ  ёёы  ёёь  ёёэ  ёёю  ёёя  ёёё  \n",
       "0 ...     0    0    0    0    0    0    0    0    0    0  \n",
       "1 ...     0    0    0    0    0    0    0    0    0    0  \n",
       "2 ...     0    0    0    0    0    0    0    0    0    0  \n",
       "3 ...     0    0    0    0    0    0    0    0    0    0  \n",
       "4 ...     0    0    0    0    0    0    0    0    0    0  \n",
       "\n",
       "[5 rows x 37062 columns]"
      ]
     },
     "execution_count": 194,
     "metadata": {},
     "output_type": "execute_result"
    }
   ],
   "source": [
    "df = df.sample(frac=1).reset_index(drop=True)\n",
    "df.head()"
   ]
  },
  {
   "cell_type": "code",
   "execution_count": 71,
   "metadata": {},
   "outputs": [
    {
     "data": {
      "text/plain": [
       "array(['Гоголь', 'Толстой', 'Достоевский'], dtype=object)"
      ]
     },
     "execution_count": 71,
     "metadata": {},
     "output_type": "execute_result"
    }
   ],
   "source": [
    "#Unique authors list\n",
    "unique_authors"
   ]
  },
  {
   "cell_type": "code",
   "execution_count": 87,
   "metadata": {},
   "outputs": [],
   "source": [
    "#Dense probabulity for all combinations\n",
    "def dense_probability(text_frame):\n",
    "    return text_frame.div(text_frame.lenght, axis=0)\n",
    "\n",
    "def calc_ethalon(author, data_frame):\n",
    "    _df = data_frame.loc[data_frame.author == author].drop(['author', 'name'], axis=1).sum()\n",
    "    return dense_probability(_df)"
   ]
  },
  {
   "cell_type": "code",
   "execution_count": 195,
   "metadata": {},
   "outputs": [],
   "source": [
    "#Calculate author ethalon\n",
    "authors_e = {}\n",
    "authors_deviation = {}\n",
    "for author in unique_authors:\n",
    "    authors_e[author] = calc_ethalon(author, df)\n",
    "    authors_deviation[author] = {'own' : deviation_own(author, df), 'foreign' : deviation_foreign(author, authors_e[author], df)}"
   ]
  },
  {
   "cell_type": "code",
   "execution_count": 178,
   "metadata": {},
   "outputs": [],
   "source": [
    "#Calculate distance between text and the ethalon. We need only letters combinations to pass the function arguments\n",
    "def dist_between_text_ethalon(text, ethalon):\n",
    "    dist = np.sum(np.absolute(np.array(text - ethalon)))\n",
    "    return dist\n",
    "#Calculate the deviation of the own textes from pseudo ethalon. Own text is excluded form the ethalon\n",
    "def deviation_own(author, data_frame):\n",
    "    distances = []\n",
    "    current_text = None\n",
    "    ethalon_without_current = None\n",
    "    data_frame = data_frame.loc[data_frame.author == author].drop(['author', 'name'], axis=1)\n",
    "    for i in data_frame.index:\n",
    "        current_text = dense_probability(data_frame.loc[[i]])\n",
    "        ethalon_without_current = dense_probability(data_frame.drop([i], axis=0).sum())\n",
    "        distances.append(dist_between_text_ethalon(current_text, ethalon_without_current))\n",
    "    return min(distances)\n",
    "#Calculate the deviation of the foreign textes from ethalon\n",
    "def deviation_foreign(author, ethalon, data_frame):\n",
    "    distances = []\n",
    "    current_text = None\n",
    "    data_frame = data_frame.loc[data_frame.author != author].drop(['author', 'name'], axis=1)\n",
    "    for i in data_frame.index:\n",
    "        current_text = dense_probability(data_frame.loc[[i]])\n",
    "        distances.append(dist_between_text_ethalon(current_text, ethalon))\n",
    "    return max(distances)"
   ]
  },
  {
   "cell_type": "code",
   "execution_count": 196,
   "metadata": {},
   "outputs": [
    {
     "data": {
      "text/plain": [
       "{'Гоголь': {'own': 0.8430963968401642, 'foreign': 1.320334040493846},\n",
       " 'Толстой': {'own': 0.9851571918315121, 'foreign': 1.3277515494513266},\n",
       " 'Достоевский': {'own': 0.844524805169581, 'foreign': 1.2458406824108037}}"
      ]
     },
     "execution_count": 196,
     "metadata": {},
     "output_type": "execute_result"
    }
   ],
   "source": [
    "authors_deviation"
   ]
  },
  {
   "cell_type": "markdown",
   "metadata": {},
   "source": [
    "# Authors prediction"
   ]
  },
  {
   "cell_type": "code",
   "execution_count": 197,
   "metadata": {},
   "outputs": [],
   "source": [
    "def text_distances(text, ethalons):\n",
    "    dist = 1\n",
    "    data_dist = {}\n",
    "    for author in ethalons:\n",
    "        dist = dist_between_text_ethalon(authors_e[author],dense_probability(text))\n",
    "        data_dist[author] = dist\n",
    "    return data_dist\n",
    "def predict_text(text, ethalons, max_dist_own = 1, min_dist_foreign = 1):\n",
    "    distances = text_distances(text, ethalons)\n",
    "    return min(distances, key = lambda x: distances.get(x) )\n",
    "        "
   ]
  },
  {
   "cell_type": "code",
   "execution_count": 200,
   "metadata": {},
   "outputs": [],
   "source": [
    "predictions = {}\n",
    "for i in predict:\n",
    "    predictions[i] = predict_text(pd.DataFrame(predict[i]),authors_e)"
   ]
  },
  {
   "cell_type": "code",
   "execution_count": 201,
   "metadata": {},
   "outputs": [
    {
     "data": {
      "text/plain": [
       "{'Советские помещики - Гоголь': 'Гоголь',\n",
       " 'Слабое сердце - Достоевский': 'Достоевский',\n",
       " 'Петербургские сновидения - Достоевский': 'Достоевский',\n",
       " 'Ползунков - Достоевский': 'Достоевский',\n",
       " 'Повесть о том - Гоголь': 'Гоголь'}"
      ]
     },
     "execution_count": 201,
     "metadata": {},
     "output_type": "execute_result"
    }
   ],
   "source": [
    "predictions"
   ]
  }
 ],
 "metadata": {
  "kernelspec": {
   "display_name": "Python 3",
   "language": "python",
   "name": "python3"
  },
  "language_info": {
   "codemirror_mode": {
    "name": "ipython",
    "version": 3
   },
   "file_extension": ".py",
   "mimetype": "text/x-python",
   "name": "python",
   "nbconvert_exporter": "python",
   "pygments_lexer": "ipython3",
   "version": "3.7.1"
  }
 },
 "nbformat": 4,
 "nbformat_minor": 2
}
