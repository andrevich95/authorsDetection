{
 "cells": [
  {
   "cell_type": "code",
   "execution_count": 1,
   "metadata": {},
   "outputs": [],
   "source": [
    "import numpy as np\n",
    "import pandas as pd\n",
    "from itertools import product\n",
    "#from nltk import ngrams\n",
    "#import sklearn\n",
    "import matplotlib.pyplot as plt\n",
    "import seaborn as sns\n",
    "import os"
   ]
  },
  {
   "cell_type": "markdown",
   "metadata": {},
   "source": [
    "# Calculate n grams"
   ]
  },
  {
   "cell_type": "code",
   "execution_count": 46,
   "metadata": {},
   "outputs": [],
   "source": [
    "alphabet = 'абвгдеёжзийклмнопрстуфхцчьыъшщэюя'\n",
    "n = 1\n",
    "\n",
    "def build_n_grams(n):\n",
    "    combinations = [''.join(val) for val in [p for p in product(list(alphabet),repeat = n)]]\n",
    "    return combinations\n",
    "\n",
    "n_grams = build_n_grams(n)"
   ]
  },
  {
   "cell_type": "markdown",
   "metadata": {},
   "source": [
    "# Read textes and build dataframe"
   ]
  },
  {
   "cell_type": "code",
   "execution_count": 47,
   "metadata": {},
   "outputs": [],
   "source": [
    "def build_dataframe(text: str, gramms):\n",
    "    text_data = {}\n",
    "    for i in gramms:\n",
    "        text_data[i] = text.count(i)\n",
    "    return text_data"
   ]
  },
  {
   "cell_type": "code",
   "execution_count": 48,
   "metadata": {},
   "outputs": [],
   "source": [
    "def read_text(filepath, n_grams):\n",
    "    data = {}\n",
    "    with open(filepath, 'r') as f:\n",
    "        try:\n",
    "            text = ''.join(filter(str.isalpha, f.read()))\n",
    "            data['lenght'] = len(text)\n",
    "            data.update(build_dataframe(text, n_grams))\n",
    "        except UnicodeDecodeError as e: \n",
    "            print('Unable to read the text (some encoding errors)')\n",
    "            print('\\033[91m {} \\033[0m'.format(str(e)))\n",
    "    return data"
   ]
  },
  {
   "cell_type": "code",
   "execution_count": 49,
   "metadata": {},
   "outputs": [],
   "source": [
    "def read_authors(dirname, n_grams):\n",
    "    data = []\n",
    "    for _dir in os.listdir(dirname):\n",
    "        _current_dir = os.path.join(dirname,_dir)\n",
    "        if(os.path.isdir(_current_dir)):\n",
    "            for _file in os.listdir(_current_dir):\n",
    "                if '.DS_Store' in _file:\n",
    "                    print('\\033[91m {} \\033[0m'.format(str('.DS_Store file')))\n",
    "                else:\n",
    "                    filepath = os.path.join(_current_dir, _file)\n",
    "                    text = None\n",
    "                    string_data = {'author': _dir, 'name': _file}\n",
    "                    string_data.update(read_text(filepath, n_grams))\n",
    "                    data.append(string_data)\n",
    "    return data"
   ]
  },
  {
   "cell_type": "markdown",
   "metadata": {},
   "source": [
    "# Read data for prediction "
   ]
  },
  {
   "cell_type": "code",
   "execution_count": 50,
   "metadata": {},
   "outputs": [],
   "source": [
    "def read_unknown(path, n_grams):\n",
    "    data = {}\n",
    "    for _file in os.listdir(path):\n",
    "        if '.DS_Store' in _file:\n",
    "            print('\\033[91m {} \\033[0m'.format(str('.DS_Store file')))\n",
    "        else:\n",
    "            data[_file] = [read_text(os.path.join(path, _file), n_grams)]\n",
    "    return data"
   ]
  },
  {
   "cell_type": "markdown",
   "metadata": {},
   "source": [
    "# Modify data and calculate PDF"
   ]
  },
  {
   "cell_type": "code",
   "execution_count": 51,
   "metadata": {},
   "outputs": [
    {
     "name": "stdout",
     "output_type": "stream",
     "text": [
      "\u001b[91m .DS_Store file \u001b[0m\n",
      "\u001b[91m .DS_Store file \u001b[0m\n",
      "\u001b[91m .DS_Store file \u001b[0m\n",
      "\u001b[91m .DS_Store file \u001b[0m\n",
      "\u001b[91m .DS_Store file \u001b[0m\n",
      "\u001b[91m .DS_Store file \u001b[0m\n",
      "\u001b[91m .DS_Store file \u001b[0m\n",
      "\u001b[91m .DS_Store file \u001b[0m\n",
      "\u001b[91m .DS_Store file \u001b[0m\n",
      "\u001b[91m .DS_Store file \u001b[0m\n",
      "\u001b[91m .DS_Store file \u001b[0m\n"
     ]
    }
   ],
   "source": [
    "data = read_authors('./5', n_grams)\n",
    "df = pd.DataFrame(data)\n",
    "unique_authors = df.author.unique()"
   ]
  },
  {
   "cell_type": "code",
   "execution_count": 52,
   "metadata": {},
   "outputs": [
    {
     "data": {
      "text/html": [
       "<div>\n",
       "<style scoped>\n",
       "    .dataframe tbody tr th:only-of-type {\n",
       "        vertical-align: middle;\n",
       "    }\n",
       "\n",
       "    .dataframe tbody tr th {\n",
       "        vertical-align: top;\n",
       "    }\n",
       "\n",
       "    .dataframe thead th {\n",
       "        text-align: right;\n",
       "    }\n",
       "</style>\n",
       "<table border=\"1\" class=\"dataframe\">\n",
       "  <thead>\n",
       "    <tr style=\"text-align: right;\">\n",
       "      <th></th>\n",
       "      <th>author</th>\n",
       "      <th>lenght</th>\n",
       "      <th>name</th>\n",
       "      <th>а</th>\n",
       "      <th>б</th>\n",
       "      <th>в</th>\n",
       "      <th>г</th>\n",
       "      <th>д</th>\n",
       "      <th>е</th>\n",
       "      <th>ж</th>\n",
       "      <th>...</th>\n",
       "      <th>ч</th>\n",
       "      <th>ш</th>\n",
       "      <th>щ</th>\n",
       "      <th>ъ</th>\n",
       "      <th>ы</th>\n",
       "      <th>ь</th>\n",
       "      <th>э</th>\n",
       "      <th>ю</th>\n",
       "      <th>я</th>\n",
       "      <th>ё</th>\n",
       "    </tr>\n",
       "  </thead>\n",
       "  <tbody>\n",
       "    <tr>\n",
       "      <th>0</th>\n",
       "      <td>Марк Фрост</td>\n",
       "      <td>4121</td>\n",
       "      <td>Фрост. Альянс 1</td>\n",
       "      <td>307</td>\n",
       "      <td>60</td>\n",
       "      <td>171</td>\n",
       "      <td>72</td>\n",
       "      <td>109</td>\n",
       "      <td>363</td>\n",
       "      <td>47</td>\n",
       "      <td>...</td>\n",
       "      <td>68</td>\n",
       "      <td>31</td>\n",
       "      <td>18</td>\n",
       "      <td>2</td>\n",
       "      <td>80</td>\n",
       "      <td>82</td>\n",
       "      <td>7</td>\n",
       "      <td>23</td>\n",
       "      <td>71</td>\n",
       "      <td>0</td>\n",
       "    </tr>\n",
       "    <tr>\n",
       "      <th>1</th>\n",
       "      <td>Хаксли</td>\n",
       "      <td>4288</td>\n",
       "      <td>Хаксли гений и богиня 22</td>\n",
       "      <td>312</td>\n",
       "      <td>95</td>\n",
       "      <td>160</td>\n",
       "      <td>69</td>\n",
       "      <td>125</td>\n",
       "      <td>409</td>\n",
       "      <td>52</td>\n",
       "      <td>...</td>\n",
       "      <td>72</td>\n",
       "      <td>42</td>\n",
       "      <td>21</td>\n",
       "      <td>2</td>\n",
       "      <td>89</td>\n",
       "      <td>104</td>\n",
       "      <td>22</td>\n",
       "      <td>32</td>\n",
       "      <td>103</td>\n",
       "      <td>0</td>\n",
       "    </tr>\n",
       "    <tr>\n",
       "      <th>2</th>\n",
       "      <td>Казанцев</td>\n",
       "      <td>4288</td>\n",
       "      <td>Казанцев Бандитский доктор 3</td>\n",
       "      <td>304</td>\n",
       "      <td>78</td>\n",
       "      <td>216</td>\n",
       "      <td>71</td>\n",
       "      <td>123</td>\n",
       "      <td>361</td>\n",
       "      <td>43</td>\n",
       "      <td>...</td>\n",
       "      <td>30</td>\n",
       "      <td>39</td>\n",
       "      <td>14</td>\n",
       "      <td>1</td>\n",
       "      <td>94</td>\n",
       "      <td>69</td>\n",
       "      <td>8</td>\n",
       "      <td>28</td>\n",
       "      <td>82</td>\n",
       "      <td>0</td>\n",
       "    </tr>\n",
       "    <tr>\n",
       "      <th>3</th>\n",
       "      <td>Генри Миллер</td>\n",
       "      <td>4172</td>\n",
       "      <td>Генри Миллиер. Время убийц 9</td>\n",
       "      <td>290</td>\n",
       "      <td>88</td>\n",
       "      <td>186</td>\n",
       "      <td>61</td>\n",
       "      <td>131</td>\n",
       "      <td>377</td>\n",
       "      <td>29</td>\n",
       "      <td>...</td>\n",
       "      <td>64</td>\n",
       "      <td>25</td>\n",
       "      <td>24</td>\n",
       "      <td>0</td>\n",
       "      <td>103</td>\n",
       "      <td>73</td>\n",
       "      <td>10</td>\n",
       "      <td>28</td>\n",
       "      <td>116</td>\n",
       "      <td>1</td>\n",
       "    </tr>\n",
       "    <tr>\n",
       "      <th>4</th>\n",
       "      <td>Курпатов</td>\n",
       "      <td>4214</td>\n",
       "      <td>Курпатов любовь и измена 9</td>\n",
       "      <td>326</td>\n",
       "      <td>76</td>\n",
       "      <td>203</td>\n",
       "      <td>69</td>\n",
       "      <td>97</td>\n",
       "      <td>418</td>\n",
       "      <td>70</td>\n",
       "      <td>...</td>\n",
       "      <td>95</td>\n",
       "      <td>22</td>\n",
       "      <td>13</td>\n",
       "      <td>0</td>\n",
       "      <td>67</td>\n",
       "      <td>89</td>\n",
       "      <td>26</td>\n",
       "      <td>37</td>\n",
       "      <td>73</td>\n",
       "      <td>0</td>\n",
       "    </tr>\n",
       "  </tbody>\n",
       "</table>\n",
       "<p>5 rows × 36 columns</p>\n",
       "</div>"
      ],
      "text/plain": [
       "         author  lenght                           name    а   б    в   г    д  \\\n",
       "0    Марк Фрост    4121                Фрост. Альянс 1  307  60  171  72  109   \n",
       "1        Хаксли    4288      Хаксли гений и богиня 22  312  95  160  69  125   \n",
       "2      Казанцев    4288  Казанцев Бандитский доктор 3  304  78  216  71  123   \n",
       "3  Генри Миллер    4172  Генри Миллиер. Время убийц 9  290  88  186  61  131   \n",
       "4      Курпатов    4214     Курпатов любовь и измена 9  326  76  203  69   97   \n",
       "\n",
       "     е   ж ...   ч   ш   щ  ъ    ы    ь   э   ю    я  ё  \n",
       "0  363  47 ...  68  31  18  2   80   82   7  23   71  0  \n",
       "1  409  52 ...  72  42  21  2   89  104  22  32  103  0  \n",
       "2  361  43 ...  30  39  14  1   94   69   8  28   82  0  \n",
       "3  377  29 ...  64  25  24  0  103   73  10  28  116  1  \n",
       "4  418  70 ...  95  22  13  0   67   89  26  37   73  0  \n",
       "\n",
       "[5 rows x 36 columns]"
      ]
     },
     "execution_count": 52,
     "metadata": {},
     "output_type": "execute_result"
    }
   ],
   "source": [
    "df = df.sample(frac=1).reset_index(drop=True)\n",
    "df.head()"
   ]
  },
  {
   "cell_type": "code",
   "execution_count": 53,
   "metadata": {},
   "outputs": [
    {
     "data": {
      "text/plain": [
       "array(['Хаксли', 'Ильин', 'Калинина', 'Курпатов', 'Агапкин', 'Марк Фрост',\n",
       "       'Достоевский', 'Тургенев', 'Генри Миллер', 'Александрова',\n",
       "       'Казанцев'], dtype=object)"
      ]
     },
     "execution_count": 53,
     "metadata": {},
     "output_type": "execute_result"
    }
   ],
   "source": [
    "#Unique authors list\n",
    "unique_authors"
   ]
  },
  {
   "cell_type": "code",
   "execution_count": 54,
   "metadata": {},
   "outputs": [],
   "source": [
    "#Dense probabulity for all combinations\n",
    "def dense_probability(text_frame):\n",
    "    return text_frame.div(text_frame.lenght, axis=0)\n",
    "\n",
    "def calc_ethalon(author, data_frame):\n",
    "    _df = data_frame.loc[data_frame.author == author].drop(['author', 'name'], axis=1).sum()\n",
    "    return dense_probability(_df)"
   ]
  },
  {
   "cell_type": "code",
   "execution_count": 55,
   "metadata": {},
   "outputs": [],
   "source": [
    "#Calculate distance between text and the ethalon. We need only letters combinations to pass the function arguments\n",
    "def dist_between_text_ethalon(text, ethalon):\n",
    "    dist = np.sum(np.absolute(np.array(text - ethalon)))\n",
    "    return dist\n",
    "#Calculate the deviation of the own textes from pseudo ethalon. Own text is excluded form the ethalon\n",
    "def deviation_own(author, data_frame):\n",
    "    distances = []\n",
    "    current_text = None\n",
    "    ethalon_without_current = None\n",
    "    data_frame = data_frame.loc[data_frame.author == author].drop(['author', 'name'], axis=1)\n",
    "    for i in data_frame.index:\n",
    "        current_text = dense_probability(data_frame.loc[[i]])\n",
    "        ethalon_without_current = dense_probability(data_frame.drop([i], axis=0).sum())\n",
    "        distances.append(dist_between_text_ethalon(current_text, ethalon_without_current))\n",
    "    return distances\n",
    "#Calculate the deviation of the foreign textes from ethalon\n",
    "def deviation_foreign(author, ethalon, data_frame):\n",
    "    distances = []\n",
    "    current_text = None\n",
    "    data_frame = data_frame.loc[data_frame.author != author].drop(['author', 'name'], axis=1)\n",
    "    for i in data_frame.index:\n",
    "        current_text = dense_probability(data_frame.loc[[i]])\n",
    "        distances.append(dist_between_text_ethalon(current_text, ethalon))\n",
    "    return distances"
   ]
  },
  {
   "cell_type": "code",
   "execution_count": 56,
   "metadata": {},
   "outputs": [],
   "source": [
    "#Calculate author ethalon\n",
    "authors_e = {}\n",
    "authors_deviation = {}\n",
    "for author in unique_authors:\n",
    "    authors_e[author] = calc_ethalon(author, df)\n",
    "    authors_deviation[author] = {'own' : min(deviation_own(author, df)), 'foreign' : max(deviation_foreign(author, authors_e[author], df))}"
   ]
  },
  {
   "cell_type": "code",
   "execution_count": 57,
   "metadata": {},
   "outputs": [
    {
     "data": {
      "text/plain": [
       "{'Хаксли': {'own': 0.05297824652812294, 'foreign': 0.19982916677128687},\n",
       " 'Ильин': {'own': 0.05856777831166668, 'foreign': 0.20516003623873497},\n",
       " 'Калинина': {'own': 0.05738597135194808, 'foreign': 0.22760629584400588},\n",
       " 'Курпатов': {'own': 0.059516747228423844, 'foreign': 0.21726638798232625},\n",
       " 'Агапкин': {'own': 0.0674324789100204, 'foreign': 0.2131116113648844},\n",
       " 'Марк Фрост': {'own': 0.048384698569954365, 'foreign': 0.21674275081088654},\n",
       " 'Достоевский': {'own': 0.06745035836970117, 'foreign': 0.22514131935241002},\n",
       " 'Тургенев': {'own': 0.06286393659225553, 'foreign': 0.2305776749738025},\n",
       " 'Генри Миллер': {'own': 0.06189515903708895, 'foreign': 0.20467440965869804},\n",
       " 'Александрова': {'own': 0.05503279933712743, 'foreign': 0.2116230045526754},\n",
       " 'Казанцев': {'own': 0.05113531447999586, 'foreign': 0.2039046168155804}}"
      ]
     },
     "execution_count": 57,
     "metadata": {},
     "output_type": "execute_result"
    }
   ],
   "source": [
    "#author textes diviation from ethalon\n",
    "authors_deviation"
   ]
  },
  {
   "cell_type": "code",
   "execution_count": 58,
   "metadata": {},
   "outputs": [],
   "source": [
    "ro_div = 1\n",
    "argmin = 0\n",
    "argmax = 10\n",
    "for i in authors_deviation:\n",
    "    if authors_deviation[i]['own'] > argmin:\n",
    "        argmin = authors_deviation[i]['own']\n",
    "    if authors_deviation[i]['foreign'] < argmax:\n",
    "        argmax = authors_deviation[i]['foreign']\n",
    "ro_div = (argmin+argmax)/2"
   ]
  },
  {
   "cell_type": "code",
   "execution_count": 59,
   "metadata": {},
   "outputs": [
    {
     "data": {
      "text/plain": [
       "0.13363976257049404"
      ]
     },
     "execution_count": 59,
     "metadata": {},
     "output_type": "execute_result"
    }
   ],
   "source": [
    "#distance to divide authors\n",
    "ro_div"
   ]
  },
  {
   "cell_type": "markdown",
   "metadata": {},
   "source": [
    "# Authors prediction"
   ]
  },
  {
   "cell_type": "code",
   "execution_count": 60,
   "metadata": {},
   "outputs": [
    {
     "name": "stdout",
     "output_type": "stream",
     "text": [
      "\u001b[91m .DS_Store file \u001b[0m\n"
     ]
    }
   ],
   "source": [
    "predict = read_unknown('./predict5', n_grams)"
   ]
  },
  {
   "cell_type": "code",
   "execution_count": 61,
   "metadata": {},
   "outputs": [],
   "source": [
    "def text_distances(text, ethalons):\n",
    "    dist = 1\n",
    "    data_dist = {}\n",
    "    for author in ethalons:\n",
    "        dist = dist_between_text_ethalon(authors_e[author],dense_probability(text))\n",
    "        data_dist[author] = dist\n",
    "    return data_dist\n",
    "def predict_text(text, ethalons, max_dist_own = 1, min_dist_foreign = 1):\n",
    "    distances = text_distances(text, ethalons)\n",
    "    author_min = min(distances, key = lambda x: distances.get(x))\n",
    "    author = author_min if distances[author_min] < ro_div else 'unknown'\n",
    "    return author\n",
    "        "
   ]
  },
  {
   "cell_type": "code",
   "execution_count": 62,
   "metadata": {},
   "outputs": [],
   "source": [
    "predictions = {}\n",
    "for i in predict:\n",
    "    predictions[i] = predict_text(pd.DataFrame(predict[i]),authors_e)"
   ]
  },
  {
   "cell_type": "code",
   "execution_count": 63,
   "metadata": {},
   "outputs": [
    {
     "data": {
      "text/plain": [
       "{'Фрост. Альянс 3': 'Марк Фрост',\n",
       " 'Генри Миллиер. Время убийц 8': 'Генри Миллер',\n",
       " 'Александрова китайская кукла 3': 'Александрова',\n",
       " 'Калинина Узор твоих снов 13': 'Калинина',\n",
       " 'Хаксли гений и богиня 20': 'Достоевский',\n",
       " 'Генри Миллер. Время убийц 13': 'Генри Миллер',\n",
       " 'Хаксли Одивный новый мир 16': 'Тургенев',\n",
       " 'Ильин Господа офицеры 10': 'Ильин',\n",
       " 'Достоевский. Повесть. Хозяйка. часть 3': 'Тургенев',\n",
       " 'Ильин Господа офицеры 26': 'Ильин',\n",
       " 'Фрост Пробуждение 14': 'Марк Фрост',\n",
       " 'Ильин Господа офицеры 18': 'Марк Фрост',\n",
       " 'Курпатов проблемный ребенок 7': 'Курпатов',\n",
       " 'Идиот 1': 'Достоевский',\n",
       " 'Тургенев Первая любовь 2': 'Марк Фрост',\n",
       " 'Тургенев Дворянское гнездо 3': 'Тургенев',\n",
       " 'Господин прохарчин 6': 'Тургенев',\n",
       " 'все о женских гормонах 5': 'Агапкин',\n",
       " 'Генри Миллер. тропик рака 6': 'Генри Миллер',\n",
       " 'Калинина Седьмой мост 18': 'Александрова',\n",
       " 'Двойник 3': 'Достоевский',\n",
       " 'Александрова ад да винчи 13': 'Александрова',\n",
       " 'Хаксли Остров 2': 'Казанцев',\n",
       " 'Александрова мечты сбываются 4': 'Ильин',\n",
       " 'Казанцев Грех 9': 'Казанцев',\n",
       " 'Калинина Седьмой мост 10': 'Достоевский',\n",
       " 'Тургенев. Отцы и дети. часть 6': 'Казанцев',\n",
       " 'Ильин Маска резидента 2': 'Хаксли',\n",
       " 'Калинина Стеклянняй омут 7': 'Казанцев',\n",
       " 'Самое главное о желудке и кишечнике 3': 'Агапкин',\n",
       " 'Хаксли Одивный новый мир 2': 'Генри Миллер',\n",
       " 'Фрост Пробуждение 9': 'Казанцев',\n",
       " 'Александрова миллион черных роз 6': 'Тургенев',\n",
       " 'Калинина Узор твоих снов 9': 'Калинина',\n",
       " 'Калинина У судьбы две руки 7': 'Александрова',\n",
       " 'Казанцев Ненасытные 3': 'Казанцев',\n",
       " 'Тайна тринадцати апостолов': 'Казанцев',\n",
       " 'Тургенев. Ася часть 9': 'Тургенев',\n",
       " 'Тургенев. Ася часть 13': 'Калинина',\n",
       " 'Курпатов Чертоги разума 3': 'Курпатов',\n",
       " 'Калинина Узор твоих снов 1': 'Калинина',\n",
       " 'Ильин Маска резидента 10': 'Ильин',\n",
       " 'Генри Миллер Нексус 8': 'Курпатов',\n",
       " 'Тургенев. Ася часть 1': 'Тургенев',\n",
       " 'Казанцев Грех 14': 'Марк Фрост',\n",
       " 'самое главное о сердце и сосудах 4': 'Агапкин',\n",
       " 'Ильин Господа офицеры 6': 'Калинина',\n",
       " 'Хаксли гений и богиня 13': 'Хаксли',\n",
       " 'Игрок 4': 'Достоевский',\n",
       " 'Курпатов Чертоги разума 13': 'Казанцев',\n",
       " 'Сюрпирз с дыркой от бублика 2': 'Александрова',\n",
       " 'Фрост. Альянс 8': 'Марк Фрост',\n",
       " 'Калинина Узор твоих снов 17': 'Калинина',\n",
       " 'Генри Миллиер. Время убийц 3': 'Курпатов',\n",
       " 'Фрост Список семи 16': 'Хаксли',\n",
       " 'Фрост Список семи 11': 'Марк Фрост',\n",
       " 'Александрова китайская кукла 9': 'Александрова',\n",
       " 'Калинина Седьмой мост 6': 'Калинина',\n",
       " 'Ильин Господа офицеры 14': 'Ильин',\n",
       " 'Курпатов проблемный ребенок 2': 'Генри Миллер',\n",
       " 'Фрост Список семи 6': 'Марк Фрост',\n",
       " 'Ильин Господа офицеры 22': 'Ильин',\n",
       " 'Фрост Список семи 1': 'Александрова',\n",
       " 'Самое главное о сердце и сосудах. С. Агапкин. часть 9': 'Агапкин',\n",
       " 'Тургенев Дворянское гнездо 7': 'Тургенев',\n",
       " 'Фрост. Альянс 13': 'Марк Фрост',\n",
       " 'Ильин Господа офицеры 30': 'Калинина',\n",
       " 'Хаксли Одивный новый мир 9': 'Агапкин',\n",
       " 'Ильин Маска резидента 6': 'Достоевский',\n",
       " 'Генри Миллер Плексус 5': 'Казанцев',\n",
       " 'Фрост Пробуждение 4': 'Марк Фрост',\n",
       " 'Калинина Стеклянняй омут 3': 'Калинина',\n",
       " 'Двойник 8': 'Казанцев',\n",
       " 'Бедные люди 8': 'Тургенев',\n",
       " '1000 советов 5': 'Агапкин',\n",
       " 'все о женских гормонах 12': 'Хаксли',\n",
       " 'Калинина Седьмой мост 14': 'Ильин',\n",
       " 'Тургенев. Отцы и дети. часть 2': 'Тургенев',\n",
       " 'Казанцев Ненасытные 13': 'Агапкин',\n",
       " 'Курпатов Любовь и измена 1': 'Курпатов',\n",
       " 'Курпатов Чертоги разума 8': 'Курпатов',\n",
       " 'Калинина У судьбы две руки 3': 'Тургенев',\n",
       " 'Казанцев Грех 19': 'Казанцев',\n",
       " 'Курпатов Любовь и измена 7': 'Курпатов',\n",
       " 'Казанцев Ненасытные 8': 'Александрова',\n",
       " 'Александрова мечты сбываються 6': 'Марк Фрост',\n",
       " 'Тургенев. Ася часть 5': 'Тургенев',\n",
       " 'Калинина Узор твоих снов 5': 'Калинина',\n",
       " 'Ильин Маска резидента 14': 'Ильин'}"
      ]
     },
     "execution_count": 63,
     "metadata": {},
     "output_type": "execute_result"
    }
   ],
   "source": [
    "#prediction for unknown authors\n",
    "predictions"
   ]
  },
  {
   "cell_type": "markdown",
   "metadata": {},
   "source": [
    "# Graphics for the first method"
   ]
  },
  {
   "cell_type": "code",
   "execution_count": 68,
   "metadata": {},
   "outputs": [],
   "source": [
    "def build_data_for_drawing(authors_deviation):\n",
    "    average_distributions_own = []\n",
    "    average_distributions_foreign = []\n",
    "    for dev in authors_deviation:\n",
    "        average_distributions_own.extend(deviation_own(dev, df))\n",
    "        average_distributions_foreign.extend(deviation_foreign(dev,authors_e[dev], df))\n",
    "    x_data_own = np.linspace(min(average_distributions_own), max(average_distributions_own), 10)\n",
    "    y_data_own = np.zeros(10)\n",
    "    for i in average_distributions_own:\n",
    "        y_data_own[np.searchsorted(x_data_own, i)] += 1\n",
    "    y_data_own = y_data_own/len(average_distributions_own)\n",
    "    \n",
    "    x_data_foreign = np.linspace(min(average_distributions_foreign), max(average_distributions_foreign), 10)\n",
    "    y_data_foreign = np.zeros(10)\n",
    "    for i in average_distributions_foreign:\n",
    "        y_data_foreign[np.searchsorted(x_data_foreign, i)] += 1\n",
    "    y_data_foreign = y_data_foreign/len(average_distributions_foreign)\n",
    "    \n",
    "    plt.plot(x_data_own, y_data_own, label=\"Власний текст\")\n",
    "    plt.plot(x_data_foreign, y_data_foreign, label=\"Чужий текст\")\n",
    "    plt.xlabel(\"Відстань до еталону\")\n",
    "    plt.ylabel(\"Ймовірність\")\n",
    "    plt.title(\"Тексти довжиною 5 000 (монограми)\")\n",
    "    plt.legend(bbox_to_anchor=(1.05, 1), loc=2, borderaxespad=0.)\n"
   ]
  },
  {
   "cell_type": "code",
   "execution_count": 69,
   "metadata": {},
   "outputs": [
    {
     "data": {
      "image/png": "[encoded data removed]",
      "text/plain": [
       "<Figure size 432x288 with 1 Axes>"
      ]
     },
     "metadata": {
      "needs_background": "light"
     },
     "output_type": "display_data"
    }
   ],
   "source": [
    "build_data_for_drawing(authors_deviation)"
   ]
  },
  {
   "cell_type": "code",
   "execution_count": 66,
   "metadata": {},
   "outputs": [],
   "source": [
    "def build_stat_data(data):\n",
    "    length = len(data)\n",
    "    probability = 0\n",
    "    for key in data.keys():\n",
    "        if predictions[key].lower() in key.lower():\n",
    "            probability += 1\n",
    "    return probability/length"
   ]
  },
  {
   "cell_type": "code",
   "execution_count": 67,
   "metadata": {},
   "outputs": [
    {
     "data": {
      "text/plain": [
       "0.38202247191011235"
      ]
     },
     "execution_count": 67,
     "metadata": {},
     "output_type": "execute_result"
    }
   ],
   "source": [
    "#probability for this method\n",
    "build_stat_data(predictions)"
   ]
  },
  {
   "cell_type": "code",
   "execution_count": 70,
   "metadata": {},
   "outputs": [
    {
     "data": {
      "image/png": "[encoded data removed]",
      "text/plain": [
       "<Figure size 432x288 with 1 Axes>"
      ]
     },
     "metadata": {
      "needs_background": "light"
     },
     "output_type": "display_data"
    }
   ],
   "source": [
    "#probability graph\n",
    "data_pdf_x = [1,2,3]\n",
    "data_proba_y = [[38.2, 57.3, 64], [52.2, 86.9, 91.3], [58.3, 75, 83.3]]\n",
    "\n",
    "plt.plot(data_pdf_x, data_proba_y[0], label=\"5 тисяч знаків\")\n",
    "plt.plot(data_pdf_x, data_proba_y[1], label=\"15-20 тисяч знаків\")\n",
    "plt.plot(data_pdf_x, data_proba_y[2], label=\"40-45 тисяч знаків\")\n",
    "plt.ylim(0,100)\n",
    "plt.ylabel(\"Точність ідентифікації\")\n",
    "plt.xlabel(\"Символів у лексичній одиниці\")\n",
    "plt.title(\"Порівняння точності методу для різної кількості символів\")\n",
    "plt.legend(bbox_to_anchor=(1.05, 1), loc=2, borderaxespad=0.)\n",
    "plt.show()"
   ]
  },
  {
   "cell_type": "code",
   "execution_count": 71,
   "metadata": {},
   "outputs": [
    {
     "data": {
      "image/png": "[encoded data removed]",
      "text/plain": [
       "<Figure size 432x288 with 1 Axes>"
      ]
     },
     "metadata": {
      "needs_background": "light"
     },
     "output_type": "display_data"
    }
   ],
   "source": [
    "#probability graph\n",
    "data_proba_x = [5000, 20000, 40000]\n",
    "data_probe_pdf_y = np.array(data_proba_y).transpose()\n",
    "\n",
    "plt.plot(data_proba_x, data_probe_pdf_y[0], label=\"монограми\")\n",
    "plt.plot(data_proba_x, data_probe_pdf_y[1], label=\"біграми\")\n",
    "plt.plot(data_proba_x, data_probe_pdf_y[2], label=\"триграми\")\n",
    "plt.ylim(0,100)\n",
    "plt.ylabel(\"Точність ідентифікації\")\n",
    "plt.xlabel(\"Символів у тексті\")\n",
    "plt.title(\"Порівняння точності методу для різної довжині текстів\")\n",
    "plt.legend(bbox_to_anchor=(1.05, 1), loc=2, borderaxespad=0.)\n",
    "plt.show()"
   ]
  },
  {
   "cell_type": "code",
   "execution_count": null,
   "metadata": {},
   "outputs": [],
   "source": []
  }
 ],
 "metadata": {
  "kernelspec": {
   "display_name": "Python 3",
   "language": "python",
   "name": "python3"
  },
  "language_info": {
   "codemirror_mode": {
    "name": "ipython",
    "version": 3
   },
   "file_extension": ".py",
   "mimetype": "text/x-python",
   "name": "python",
   "nbconvert_exporter": "python",
   "pygments_lexer": "ipython3",
   "version": "3.7.1"
  }
 },
 "nbformat": 4,
 "nbformat_minor": 2
}
